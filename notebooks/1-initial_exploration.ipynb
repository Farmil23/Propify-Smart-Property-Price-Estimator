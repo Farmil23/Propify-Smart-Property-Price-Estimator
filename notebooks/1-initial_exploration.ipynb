{
  "cells": [
    {
      "cell_type": "code",
      "execution_count": 1,
      "metadata": {
        "id": "fBEprKYp4sdC"
      },
      "outputs": [],
      "source": [
        "import pandas as pd # Untuk manipulasi dan analisis data\n",
        "import numpy as np # Untuk operasi numerik\n",
        "import matplotlib.pyplot as plt # Untuk membuat visualisasi data\n",
        "import seaborn as sns # Untuk visualisasi data yang lebih menarik\n",
        "\n",
        "from sklearn.model_selection import train_test_split # Untuk membagi data menjadi data latih dan data uji\n",
        "from sklearn.preprocessing import StandardScaler # Untuk penskalaan fitur\n",
        "from sklearn.linear_model import LinearRegression # Untuk model regresi linier\n",
        "from sklearn.metrics import mean_squared_error, r2_score # Untuk evaluasi model\n",
        "\n",
        "from sklearn.compose import ColumnTransformer # Untuk menerapkan transformasi berbeda pada kolom yang berbeda\n",
        "from sklearn.pipeline import Pipeline # Untuk membuat alur kerja (pipeline)\n",
        "from sklearn.impute import SimpleImputer # Untuk mengisi nilai yang hilang\n",
        "from sklearn.preprocessing import StandardScaler, OneHotEncoder # Untuk penskalaan dan one-hot encoding"
      ]
    },
    {
      "cell_type": "code",
      "execution_count": 2,
      "metadata": {
        "colab": {
          "base_uri": "https://localhost:8080/",
          "height": 637
        },
        "id": "Q255E_na4gHD",
        "outputId": "96c84c89-a21a-449a-ded9-0a6cf651b8c0"
      },
      "outputs": [
        {
          "data": {
            "text/html": [
              "<div>\n",
              "<style scoped>\n",
              "    .dataframe tbody tr th:only-of-type {\n",
              "        vertical-align: middle;\n",
              "    }\n",
              "\n",
              "    .dataframe tbody tr th {\n",
              "        vertical-align: top;\n",
              "    }\n",
              "\n",
              "    .dataframe thead th {\n",
              "        text-align: right;\n",
              "    }\n",
              "</style>\n",
              "<table border=\"1\" class=\"dataframe\">\n",
              "  <thead>\n",
              "    <tr style=\"text-align: right;\">\n",
              "      <th></th>\n",
              "      <th>url</th>\n",
              "      <th>price_in_rp</th>\n",
              "      <th>title</th>\n",
              "      <th>address</th>\n",
              "      <th>district</th>\n",
              "      <th>city</th>\n",
              "      <th>lat</th>\n",
              "      <th>long</th>\n",
              "      <th>facilities</th>\n",
              "      <th>property_type</th>\n",
              "      <th>...</th>\n",
              "      <th>electricity</th>\n",
              "      <th>maid_bedrooms</th>\n",
              "      <th>maid_bathrooms</th>\n",
              "      <th>floors</th>\n",
              "      <th>building_age</th>\n",
              "      <th>year_built</th>\n",
              "      <th>property_condition</th>\n",
              "      <th>building_orientation</th>\n",
              "      <th>garages</th>\n",
              "      <th>furnishing</th>\n",
              "    </tr>\n",
              "  </thead>\n",
              "  <tbody>\n",
              "    <tr>\n",
              "      <th>0</th>\n",
              "      <td>https://www.rumah123.com/properti/bekasi/hos11...</td>\n",
              "      <td>2.990000e+09</td>\n",
              "      <td>Rumah cantik Sumarecon Bekasi\\nLingkungan asri...</td>\n",
              "      <td>Summarecon Bekasi, Bekasi</td>\n",
              "      <td>Summarecon Bekasi</td>\n",
              "      <td>Bekasi</td>\n",
              "      <td>-6.223945</td>\n",
              "      <td>106.986275</td>\n",
              "      <td>Tempat Jemuran, Jalur Telepon, Taman,  Taman</td>\n",
              "      <td>rumah</td>\n",
              "      <td>...</td>\n",
              "      <td>4400 mah</td>\n",
              "      <td>0.0</td>\n",
              "      <td>1.0</td>\n",
              "      <td>2.0</td>\n",
              "      <td>5.0</td>\n",
              "      <td>2017.0</td>\n",
              "      <td>bagus</td>\n",
              "      <td>NaN</td>\n",
              "      <td>0.0</td>\n",
              "      <td>unfurnished</td>\n",
              "    </tr>\n",
              "    <tr>\n",
              "      <th>1</th>\n",
              "      <td>https://www.rumah123.com/properti/bekasi/hos10...</td>\n",
              "      <td>1.270000e+09</td>\n",
              "      <td>Rumah Kekinian, Magenta Summarecon Bekasi</td>\n",
              "      <td>Summarecon Bekasi, Bekasi</td>\n",
              "      <td>Summarecon Bekasi</td>\n",
              "      <td>Bekasi</td>\n",
              "      <td>-6.223945</td>\n",
              "      <td>106.986275</td>\n",
              "      <td>Taman</td>\n",
              "      <td>rumah</td>\n",
              "      <td>...</td>\n",
              "      <td>2200 mah</td>\n",
              "      <td>0.0</td>\n",
              "      <td>0.0</td>\n",
              "      <td>2.0</td>\n",
              "      <td>NaN</td>\n",
              "      <td>NaN</td>\n",
              "      <td>bagus</td>\n",
              "      <td>NaN</td>\n",
              "      <td>0.0</td>\n",
              "      <td>NaN</td>\n",
              "    </tr>\n",
              "    <tr>\n",
              "      <th>2</th>\n",
              "      <td>https://www.rumah123.com/properti/bekasi/hos10...</td>\n",
              "      <td>1.950000e+09</td>\n",
              "      <td>Rumah Cantik 2 Lantai Cluster Bluebell Summare...</td>\n",
              "      <td>Summarecon Bekasi, Bekasi</td>\n",
              "      <td>Summarecon Bekasi</td>\n",
              "      <td>Bekasi</td>\n",
              "      <td>-6.223945</td>\n",
              "      <td>106.986275</td>\n",
              "      <td>Jogging Track,  Kolam Renang, Masjid,  Taman,...</td>\n",
              "      <td>rumah</td>\n",
              "      <td>...</td>\n",
              "      <td>2200 mah</td>\n",
              "      <td>1.0</td>\n",
              "      <td>1.0</td>\n",
              "      <td>2.0</td>\n",
              "      <td>NaN</td>\n",
              "      <td>NaN</td>\n",
              "      <td>bagus</td>\n",
              "      <td>NaN</td>\n",
              "      <td>1.0</td>\n",
              "      <td>unfurnished</td>\n",
              "    </tr>\n",
              "    <tr>\n",
              "      <th>3</th>\n",
              "      <td>https://www.rumah123.com/properti/bekasi/hos10...</td>\n",
              "      <td>3.300000e+09</td>\n",
              "      <td>Rumah Mewah 2Lantai L10x18 C di Cluster VERNON...</td>\n",
              "      <td>Summarecon Bekasi, Bekasi</td>\n",
              "      <td>Summarecon Bekasi</td>\n",
              "      <td>Bekasi</td>\n",
              "      <td>-6.223945</td>\n",
              "      <td>106.986275</td>\n",
              "      <td>Jalur Telepon,  Jogging Track, Track Lari,  K...</td>\n",
              "      <td>rumah</td>\n",
              "      <td>...</td>\n",
              "      <td>3500 mah</td>\n",
              "      <td>1.0</td>\n",
              "      <td>1.0</td>\n",
              "      <td>2.0</td>\n",
              "      <td>6.0</td>\n",
              "      <td>2016.0</td>\n",
              "      <td>bagus sekali</td>\n",
              "      <td>utara</td>\n",
              "      <td>2.0</td>\n",
              "      <td>unfurnished</td>\n",
              "    </tr>\n",
              "    <tr>\n",
              "      <th>4</th>\n",
              "      <td>https://www.rumah123.com/properti/bekasi/hos10...</td>\n",
              "      <td>4.500000e+09</td>\n",
              "      <td>Rumah Hoek di Cluster Maple Summarecon Bekasi,...</td>\n",
              "      <td>Summarecon Bekasi, Bekasi</td>\n",
              "      <td>Summarecon Bekasi</td>\n",
              "      <td>Bekasi</td>\n",
              "      <td>-6.223945</td>\n",
              "      <td>106.986275</td>\n",
              "      <td>Jogging Track,  Kolam Renang, Taman, Jalur Te...</td>\n",
              "      <td>rumah</td>\n",
              "      <td>...</td>\n",
              "      <td>3500 mah</td>\n",
              "      <td>1.0</td>\n",
              "      <td>1.0</td>\n",
              "      <td>2.0</td>\n",
              "      <td>9.0</td>\n",
              "      <td>2013.0</td>\n",
              "      <td>bagus</td>\n",
              "      <td>utara</td>\n",
              "      <td>1.0</td>\n",
              "      <td>unfurnished</td>\n",
              "    </tr>\n",
              "  </tbody>\n",
              "</table>\n",
              "<p>5 rows × 27 columns</p>\n",
              "</div>"
            ],
            "text/plain": [
              "                                                 url   price_in_rp  \\\n",
              "0  https://www.rumah123.com/properti/bekasi/hos11...  2.990000e+09   \n",
              "1  https://www.rumah123.com/properti/bekasi/hos10...  1.270000e+09   \n",
              "2  https://www.rumah123.com/properti/bekasi/hos10...  1.950000e+09   \n",
              "3  https://www.rumah123.com/properti/bekasi/hos10...  3.300000e+09   \n",
              "4  https://www.rumah123.com/properti/bekasi/hos10...  4.500000e+09   \n",
              "\n",
              "                                               title  \\\n",
              "0  Rumah cantik Sumarecon Bekasi\\nLingkungan asri...   \n",
              "1          Rumah Kekinian, Magenta Summarecon Bekasi   \n",
              "2  Rumah Cantik 2 Lantai Cluster Bluebell Summare...   \n",
              "3  Rumah Mewah 2Lantai L10x18 C di Cluster VERNON...   \n",
              "4  Rumah Hoek di Cluster Maple Summarecon Bekasi,...   \n",
              "\n",
              "                     address           district     city       lat  \\\n",
              "0  Summarecon Bekasi, Bekasi  Summarecon Bekasi   Bekasi -6.223945   \n",
              "1  Summarecon Bekasi, Bekasi  Summarecon Bekasi   Bekasi -6.223945   \n",
              "2  Summarecon Bekasi, Bekasi  Summarecon Bekasi   Bekasi -6.223945   \n",
              "3  Summarecon Bekasi, Bekasi  Summarecon Bekasi   Bekasi -6.223945   \n",
              "4  Summarecon Bekasi, Bekasi  Summarecon Bekasi   Bekasi -6.223945   \n",
              "\n",
              "         long                                         facilities  \\\n",
              "0  106.986275       Tempat Jemuran, Jalur Telepon, Taman,  Taman   \n",
              "1  106.986275                                              Taman   \n",
              "2  106.986275   Jogging Track,  Kolam Renang, Masjid,  Taman,...   \n",
              "3  106.986275   Jalur Telepon,  Jogging Track, Track Lari,  K...   \n",
              "4  106.986275   Jogging Track,  Kolam Renang, Taman, Jalur Te...   \n",
              "\n",
              "  property_type  ... electricity  maid_bedrooms  maid_bathrooms  floors  \\\n",
              "0         rumah  ...    4400 mah            0.0             1.0     2.0   \n",
              "1         rumah  ...    2200 mah            0.0             0.0     2.0   \n",
              "2         rumah  ...    2200 mah            1.0             1.0     2.0   \n",
              "3         rumah  ...    3500 mah            1.0             1.0     2.0   \n",
              "4         rumah  ...    3500 mah            1.0             1.0     2.0   \n",
              "\n",
              "   building_age  year_built property_condition building_orientation  garages  \\\n",
              "0           5.0      2017.0              bagus                  NaN      0.0   \n",
              "1           NaN         NaN              bagus                  NaN      0.0   \n",
              "2           NaN         NaN              bagus                  NaN      1.0   \n",
              "3           6.0      2016.0       bagus sekali                utara      2.0   \n",
              "4           9.0      2013.0              bagus                utara      1.0   \n",
              "\n",
              "    furnishing  \n",
              "0  unfurnished  \n",
              "1          NaN  \n",
              "2  unfurnished  \n",
              "3  unfurnished  \n",
              "4  unfurnished  \n",
              "\n",
              "[5 rows x 27 columns]"
            ]
          },
          "execution_count": 2,
          "metadata": {},
          "output_type": "execute_result"
        }
      ],
      "source": [
        "# mengambil data dan menampilkan 5 data pertama\n",
        "df = pd.read_csv('../data/raw/jabodetabek_house_price.csv')\n",
        "df.head(5)"
      ]
    },
    {
      "cell_type": "code",
      "execution_count": 3,
      "metadata": {
        "colab": {
          "base_uri": "https://localhost:8080/"
        },
        "id": "nb277nl35b4e",
        "outputId": "2c01b303-e61c-40d3-9b37-6906eda1c9bd"
      },
      "outputs": [
        {
          "data": {
            "text/plain": [
              "Index(['url', 'price_in_rp', 'title', 'address', 'district', 'city', 'lat',\n",
              "       'long', 'facilities', 'property_type', 'ads_id', 'bedrooms',\n",
              "       'bathrooms', 'land_size_m2', 'building_size_m2', 'carports',\n",
              "       'certificate', 'electricity', 'maid_bedrooms', 'maid_bathrooms',\n",
              "       'floors', 'building_age', 'year_built', 'property_condition',\n",
              "       'building_orientation', 'garages', 'furnishing'],\n",
              "      dtype='object')"
            ]
          },
          "execution_count": 3,
          "metadata": {},
          "output_type": "execute_result"
        }
      ],
      "source": [
        "## menampilkan columns columns pada dataset tersebut\n",
        "df.columns"
      ]
    },
    {
      "cell_type": "markdown",
      "metadata": {
        "id": "CbWzxnAeQWV_"
      },
      "source": [
        "###  melihat value dalam columns"
      ]
    },
    {
      "cell_type": "code",
      "execution_count": 4,
      "metadata": {
        "colab": {
          "base_uri": "https://localhost:8080/"
        },
        "id": "d8CwRysB5fiP",
        "outputId": "296bb5ed-7dd8-4010-c0f2-5bd56a6517e0"
      },
      "outputs": [
        {
          "data": {
            "text/plain": [
              "array(['hos11360272', 'hos10680347', 'hos10685867', ..., 'hos11359594',\n",
              "       'hos11359313', 'hos11358964'], shape=(3458,), dtype=object)"
            ]
          },
          "execution_count": 4,
          "metadata": {},
          "output_type": "execute_result"
        }
      ],
      "source": [
        "\n",
        "df.ads_id.unique()"
      ]
    },
    {
      "cell_type": "code",
      "execution_count": 5,
      "metadata": {
        "colab": {
          "base_uri": "https://localhost:8080/"
        },
        "id": "08lSLBHL5rYP",
        "outputId": "50a833b6-30c8-4936-9c71-2d92026dac0c"
      },
      "outputs": [
        {
          "data": {
            "text/plain": [
              "array([ 0.,  1.,  2.,  3.,  4., 12.,  5.,  8.,  6.,  7., 10., 15., 14.])"
            ]
          },
          "execution_count": 5,
          "metadata": {},
          "output_type": "execute_result"
        }
      ],
      "source": [
        "df.carports.unique()"
      ]
    },
    {
      "cell_type": "code",
      "execution_count": 6,
      "metadata": {
        "colab": {
          "base_uri": "https://localhost:8080/"
        },
        "id": "zhzL5E486jW4",
        "outputId": "23926cd2-de96-4791-c034-0493e89edf28"
      },
      "outputs": [
        {
          "data": {
            "text/plain": [
              "array([ 0.,  1.,  2.,  3.,  4.,  6., 10.,  5., 12., 20., 50.])"
            ]
          },
          "execution_count": 6,
          "metadata": {},
          "output_type": "execute_result"
        }
      ],
      "source": [
        "df.garages.unique()"
      ]
    },
    {
      "cell_type": "code",
      "execution_count": 7,
      "metadata": {
        "colab": {
          "base_uri": "https://localhost:8080/"
        },
        "id": "Ku9zXrnw6YUV",
        "outputId": "53259ab7-a590-4723-f364-6791137126fb"
      },
      "outputs": [
        {
          "data": {
            "text/plain": [
              "array(['shm - sertifikat hak milik', 'hgb - hak guna bangunan',\n",
              "       'lainnya (ppjb,girik,adat,dll)', nan, 'hp - hak pakai'],\n",
              "      dtype=object)"
            ]
          },
          "execution_count": 7,
          "metadata": {},
          "output_type": "execute_result"
        }
      ],
      "source": [
        "df.certificate.unique()"
      ]
    },
    {
      "cell_type": "code",
      "execution_count": 8,
      "metadata": {
        "colab": {
          "base_uri": "https://localhost:8080/"
        },
        "id": "HBb6ii_A6xNH",
        "outputId": "4d3eed53-3774-4e1d-d314-8bf923fe26ec"
      },
      "outputs": [
        {
          "data": {
            "text/plain": [
              "array(['rumah', nan], dtype=object)"
            ]
          },
          "execution_count": 8,
          "metadata": {},
          "output_type": "execute_result"
        }
      ],
      "source": [
        "df.property_type.unique()"
      ]
    },
    {
      "cell_type": "code",
      "execution_count": 9,
      "metadata": {
        "colab": {
          "base_uri": "https://localhost:8080/"
        },
        "id": "2D9Wy88c64fn",
        "outputId": "ca93bd59-0399-4a2f-830b-4b050fb3ac7d"
      },
      "outputs": [
        {
          "data": {
            "text/plain": [
              "array(['bagus', 'bagus sekali', nan, 'baru', 'sudah renovasi',\n",
              "       'butuh renovasi', 'semi furnished', 'unfurnished'], dtype=object)"
            ]
          },
          "execution_count": 9,
          "metadata": {},
          "output_type": "execute_result"
        }
      ],
      "source": [
        "df.property_condition.unique()"
      ]
    },
    {
      "cell_type": "code",
      "execution_count": 10,
      "metadata": {
        "colab": {
          "base_uri": "https://localhost:8080/"
        },
        "id": "JakZHjic7mUO",
        "outputId": "a3c92d9b-2d60-445a-ad55-5f08292816ae"
      },
      "outputs": [
        {
          "data": {
            "text/plain": [
              "array([nan, 'utara', 'selatan', 'timur', 'barat', 'barat laut',\n",
              "       'barat daya', 'tenggara', 'timur laut'], dtype=object)"
            ]
          },
          "execution_count": 10,
          "metadata": {},
          "output_type": "execute_result"
        }
      ],
      "source": [
        "df.building_orientation.unique()"
      ]
    },
    {
      "cell_type": "code",
      "execution_count": 11,
      "metadata": {
        "colab": {
          "base_uri": "https://localhost:8080/"
        },
        "id": "i0lGbg_c76O2",
        "outputId": "0b90fc8e-0d7e-43fd-8606-f1d4ad56b464"
      },
      "outputs": [
        {
          "data": {
            "text/plain": [
              "array(['unfurnished', nan, 'semi furnished', 'furnished', 'baru'],\n",
              "      dtype=object)"
            ]
          },
          "execution_count": 11,
          "metadata": {},
          "output_type": "execute_result"
        }
      ],
      "source": [
        "df.furnishing.unique()"
      ]
    },
    {
      "cell_type": "code",
      "execution_count": 12,
      "metadata": {
        "colab": {
          "base_uri": "https://localhost:8080/",
          "height": 240
        },
        "id": "aowbHZOF8Tal",
        "outputId": "a2a22281-b433-4d9e-a2ed-d4c2d0d3f3eb"
      },
      "outputs": [
        {
          "data": {
            "text/plain": [
              "condition\n",
              "unfurnished       2066\n",
              "semi furnished     833\n",
              "furnished          238\n",
              "baru                29\n",
              "Name: count, dtype: int64"
            ]
          },
          "execution_count": 12,
          "metadata": {},
          "output_type": "execute_result"
        }
      ],
      "source": [
        "df['condition'] =  df['furnishing']\n",
        "df.condition.value_counts()"
      ]
    },
    {
      "cell_type": "code",
      "execution_count": 13,
      "metadata": {
        "colab": {
          "base_uri": "https://localhost:8080/"
        },
        "id": "glZtA9Uw51sk",
        "outputId": "5c9f5ec6-05ec-4779-ecdc-316126ccdd0d"
      },
      "outputs": [
        {
          "name": "stdout",
          "output_type": "stream",
          "text": [
            "<class 'pandas.core.frame.DataFrame'>\n",
            "RangeIndex: 3553 entries, 0 to 3552\n",
            "Data columns (total 28 columns):\n",
            " #   Column                Non-Null Count  Dtype  \n",
            "---  ------                --------------  -----  \n",
            " 0   url                   3553 non-null   object \n",
            " 1   price_in_rp           3553 non-null   float64\n",
            " 2   title                 3553 non-null   object \n",
            " 3   address               3553 non-null   object \n",
            " 4   district              3553 non-null   object \n",
            " 5   city                  3553 non-null   object \n",
            " 6   lat                   3553 non-null   float64\n",
            " 7   long                  3553 non-null   float64\n",
            " 8   facilities            3553 non-null   object \n",
            " 9   property_type         3552 non-null   object \n",
            " 10  ads_id                3549 non-null   object \n",
            " 11  bedrooms              3519 non-null   float64\n",
            " 12  bathrooms             3524 non-null   float64\n",
            " 13  land_size_m2          3551 non-null   float64\n",
            " 14  building_size_m2      3551 non-null   float64\n",
            " 15  carports              3553 non-null   float64\n",
            " 16  certificate           3412 non-null   object \n",
            " 17  electricity           3553 non-null   object \n",
            " 18  maid_bedrooms         3553 non-null   float64\n",
            " 19  maid_bathrooms        3553 non-null   float64\n",
            " 20  floors                3547 non-null   float64\n",
            " 21  building_age          2108 non-null   float64\n",
            " 22  year_built            2108 non-null   float64\n",
            " 23  property_condition    3307 non-null   object \n",
            " 24  building_orientation  1906 non-null   object \n",
            " 25  garages               3553 non-null   float64\n",
            " 26  furnishing            3166 non-null   object \n",
            " 27  condition             3166 non-null   object \n",
            "dtypes: float64(14), object(14)\n",
            "memory usage: 777.3+ KB\n"
          ]
        }
      ],
      "source": [
        "df.info()"
      ]
    },
    {
      "cell_type": "markdown",
      "metadata": {
        "id": "1qf4-b1mQec9"
      },
      "source": [
        "## data cleaning"
      ]
    },
    {
      "cell_type": "code",
      "execution_count": 14,
      "metadata": {
        "id": "M2U8H7WA4rQM"
      },
      "outputs": [],
      "source": [
        "drop_features = ['url', 'title', 'address', 'ads_id', 'certificate', 'property_type', 'facilities',  'lat', 'long', 'building_orientation', 'property_condition', 'furnishing', 'year_built',  'maid_bathrooms', 'maid_bedrooms']\n",
        "df.drop(drop_features, axis=1, inplace=True)\n"
      ]
    },
    {
      "cell_type": "code",
      "execution_count": 15,
      "metadata": {
        "colab": {
          "base_uri": "https://localhost:8080/"
        },
        "id": "ih3_WXNZ82p2",
        "outputId": "b6f72277-6c56-4350-8cff-69b5961e44c5"
      },
      "outputs": [
        {
          "name": "stdout",
          "output_type": "stream",
          "text": [
            "<class 'pandas.core.frame.DataFrame'>\n",
            "RangeIndex: 3553 entries, 0 to 3552\n",
            "Data columns (total 13 columns):\n",
            " #   Column            Non-Null Count  Dtype  \n",
            "---  ------            --------------  -----  \n",
            " 0   price_in_rp       3553 non-null   float64\n",
            " 1   district          3553 non-null   object \n",
            " 2   city              3553 non-null   object \n",
            " 3   bedrooms          3519 non-null   float64\n",
            " 4   bathrooms         3524 non-null   float64\n",
            " 5   land_size_m2      3551 non-null   float64\n",
            " 6   building_size_m2  3551 non-null   float64\n",
            " 7   carports          3553 non-null   float64\n",
            " 8   electricity       3553 non-null   object \n",
            " 9   floors            3547 non-null   float64\n",
            " 10  building_age      2108 non-null   float64\n",
            " 11  garages           3553 non-null   float64\n",
            " 12  condition         3166 non-null   object \n",
            "dtypes: float64(9), object(4)\n",
            "memory usage: 361.0+ KB\n"
          ]
        }
      ],
      "source": [
        "df.info()"
      ]
    },
    {
      "cell_type": "code",
      "execution_count": 16,
      "metadata": {
        "colab": {
          "base_uri": "https://localhost:8080/"
        },
        "id": "wus4Gd8HJ9zt",
        "outputId": "e6eb3413-460d-41fb-bfb5-23541273de0f"
      },
      "outputs": [
        {
          "data": {
            "text/plain": [
              "array([  5.,  nan,   6.,   9.,   8.,   7.,   0.,   2.,  12.,   4.,  11.,\n",
              "         1.,  16.,  22.,   3.,  15.,  13.,  10.,  18.,  37.,  14.,  21.,\n",
              "        17.,  28.,  19.,  20.,  27., 152.,  52.,  36.,  42.,  26.,  29.,\n",
              "        32.,  23.,  34.,  40.,  24.,  46.,  45.,  49., 121.,  30.])"
            ]
          },
          "execution_count": 16,
          "metadata": {},
          "output_type": "execute_result"
        }
      ],
      "source": [
        "df.building_age.unique()"
      ]
    },
    {
      "cell_type": "code",
      "execution_count": 17,
      "metadata": {
        "colab": {
          "base_uri": "https://localhost:8080/",
          "height": 491
        },
        "id": "BXwrREyYJjBa",
        "outputId": "9ce32c3f-0c94-4bc0-e54b-af78e70d8d31"
      },
      "outputs": [
        {
          "data": {
            "text/plain": [
              "price_in_rp            0\n",
              "district               0\n",
              "city                   0\n",
              "bedrooms              34\n",
              "bathrooms             29\n",
              "land_size_m2           2\n",
              "building_size_m2       2\n",
              "carports               0\n",
              "electricity            0\n",
              "floors                 6\n",
              "building_age        1445\n",
              "garages                0\n",
              "condition            387\n",
              "dtype: int64"
            ]
          },
          "execution_count": 17,
          "metadata": {},
          "output_type": "execute_result"
        }
      ],
      "source": [
        "df.isnull().sum()"
      ]
    },
    {
      "cell_type": "code",
      "execution_count": 18,
      "metadata": {
        "colab": {
          "base_uri": "https://localhost:8080/"
        },
        "id": "Kd7Z7D6lKpNi",
        "outputId": "5ec12693-ef63-4f8e-ace1-6c287d582665"
      },
      "outputs": [
        {
          "name": "stdout",
          "output_type": "stream",
          "text": [
            "Missing values after imputation:\n",
            "price_in_rp         0\n",
            "district            0\n",
            "city                0\n",
            "bedrooms            0\n",
            "bathrooms           0\n",
            "land_size_m2        0\n",
            "building_size_m2    0\n",
            "carports            0\n",
            "electricity         0\n",
            "floors              0\n",
            "building_age        0\n",
            "garages             0\n",
            "condition           0\n",
            "dtype: int64\n"
          ]
        }
      ],
      "source": [
        "# Identify categorical and numerical columns\n",
        "categorical_cols = df.select_dtypes(include='object').columns\n",
        "numerical_cols = df.select_dtypes(include=np.number).columns\n",
        "\n",
        "# Impute missing values with mode for categorical columns\n",
        "for col in categorical_cols:\n",
        "    df[col] = df[col].fillna(df[col].mode()[0])\n",
        "\n",
        "# Impute missing values with median for numerical columns\n",
        "for col in numerical_cols:\n",
        "    df[col] = df[col].fillna(df[col].median())\n",
        "\n",
        "# Verify that there are no more missing values\n",
        "print(\"Missing values after imputation:\")\n",
        "print(df.isnull().sum())"
      ]
    },
    {
      "cell_type": "code",
      "execution_count": 19,
      "metadata": {
        "colab": {
          "base_uri": "https://localhost:8080/"
        },
        "id": "tKXE_1egK49v",
        "outputId": "eda4f51b-4edc-4ecb-e5bc-f55840a65cb2"
      },
      "outputs": [
        {
          "data": {
            "text/plain": [
              "array(['4400 mah', '2200 mah', '3500 mah', '1300 mah', 'lainnya mah',\n",
              "       '5500 mah', '6600 mah', '7700 mah', '3300 mah', '7600 mah',\n",
              "       '10600 mah', '900 mah', '47500 mah', '11000 mah', '8000 mah',\n",
              "       '450 mah', '10000 mah', '53000 mah', '16500 mah', '13200 mah',\n",
              "       '13900 mah', '17600 mah', '23000 mah', '41500 mah', '12700 mah',\n",
              "       '13300 mah', '33000 mah', '24000 mah', '22000 mah', '9500 mah'],\n",
              "      dtype=object)"
            ]
          },
          "execution_count": 19,
          "metadata": {},
          "output_type": "execute_result"
        }
      ],
      "source": [
        "df.electricity.unique()"
      ]
    },
    {
      "cell_type": "code",
      "execution_count": 20,
      "metadata": {
        "colab": {
          "base_uri": "https://localhost:8080/",
          "height": 89
        },
        "id": "CIH_49vaLdYT",
        "outputId": "24f0caa4-edeb-4cbb-e381-8945c922ec7a"
      },
      "outputs": [
        {
          "data": {
            "text/plain": [
              "array([ 4400,  2200,  3500,  1300,  5500,  6600,  7700,  3300,  7600,\n",
              "       10600,   900, 47500, 11000,  8000,   450, 10000, 53000, 16500,\n",
              "       13200, 13900, 17600, 23000, 41500, 12700, 13300, 33000, 24000,\n",
              "       22000,  9500])"
            ]
          },
          "metadata": {},
          "output_type": "display_data"
        }
      ],
      "source": [
        "df['electricity'] = df['electricity'].str.replace(' mah', '')\n",
        "df['electricity'] = df['electricity'].str.replace('lainnya', df.electricity.mode()[0])\n",
        "df['electricity'] = df['electricity'].astype(int)\n",
        "display(df.electricity.unique())"
      ]
    },
    {
      "cell_type": "code",
      "execution_count": 21,
      "metadata": {
        "id": "argKgU4386-D"
      },
      "outputs": [],
      "source": [
        "int_features = ['bedrooms', 'bathrooms', 'floors', 'garages', 'building_age', 'carports', 'electricity']\n",
        "for feature in int_features:\n",
        "    df[feature] = df[feature].astype(int)"
      ]
    },
    {
      "cell_type": "code",
      "execution_count": 22,
      "metadata": {
        "colab": {
          "base_uri": "https://localhost:8080/"
        },
        "id": "fljA3UNSJhgR",
        "outputId": "4e16ba92-709e-4cb3-ca12-65fffe575762"
      },
      "outputs": [
        {
          "name": "stdout",
          "output_type": "stream",
          "text": [
            "<class 'pandas.core.frame.DataFrame'>\n",
            "RangeIndex: 3553 entries, 0 to 3552\n",
            "Data columns (total 13 columns):\n",
            " #   Column            Non-Null Count  Dtype  \n",
            "---  ------            --------------  -----  \n",
            " 0   price_in_rp       3553 non-null   float64\n",
            " 1   district          3553 non-null   object \n",
            " 2   city              3553 non-null   object \n",
            " 3   bedrooms          3553 non-null   int64  \n",
            " 4   bathrooms         3553 non-null   int64  \n",
            " 5   land_size_m2      3553 non-null   float64\n",
            " 6   building_size_m2  3553 non-null   float64\n",
            " 7   carports          3553 non-null   int64  \n",
            " 8   electricity       3553 non-null   int64  \n",
            " 9   floors            3553 non-null   int64  \n",
            " 10  building_age      3553 non-null   int64  \n",
            " 11  garages           3553 non-null   int64  \n",
            " 12  condition         3553 non-null   object \n",
            "dtypes: float64(3), int64(7), object(3)\n",
            "memory usage: 361.0+ KB\n"
          ]
        }
      ],
      "source": [
        "df.info()"
      ]
    },
    {
      "cell_type": "code",
      "execution_count": 23,
      "metadata": {
        "id": "vA3pUMXdLXwo"
      },
      "outputs": [],
      "source": [
        "df['price'] = df.price_in_rp\n",
        "df.drop('price_in_rp', axis=1, inplace=True)"
      ]
    },
    {
      "cell_type": "code",
      "execution_count": 24,
      "metadata": {
        "colab": {
          "base_uri": "https://localhost:8080/",
          "height": 313
        },
        "id": "D2UjexYiNGTx",
        "outputId": "786be006-d98f-49b9-e41d-a49fec714d8f"
      },
      "outputs": [
        {
          "data": {
            "text/html": [
              "<div>\n",
              "<style scoped>\n",
              "    .dataframe tbody tr th:only-of-type {\n",
              "        vertical-align: middle;\n",
              "    }\n",
              "\n",
              "    .dataframe tbody tr th {\n",
              "        vertical-align: top;\n",
              "    }\n",
              "\n",
              "    .dataframe thead th {\n",
              "        text-align: right;\n",
              "    }\n",
              "</style>\n",
              "<table border=\"1\" class=\"dataframe\">\n",
              "  <thead>\n",
              "    <tr style=\"text-align: right;\">\n",
              "      <th></th>\n",
              "      <th>district</th>\n",
              "      <th>city</th>\n",
              "      <th>bedrooms</th>\n",
              "      <th>bathrooms</th>\n",
              "      <th>land_size_m2</th>\n",
              "      <th>building_size_m2</th>\n",
              "      <th>carports</th>\n",
              "      <th>electricity</th>\n",
              "      <th>floors</th>\n",
              "      <th>building_age</th>\n",
              "      <th>garages</th>\n",
              "      <th>condition</th>\n",
              "      <th>price</th>\n",
              "    </tr>\n",
              "  </thead>\n",
              "  <tbody>\n",
              "    <tr>\n",
              "      <th>0</th>\n",
              "      <td>Summarecon Bekasi</td>\n",
              "      <td>Bekasi</td>\n",
              "      <td>4</td>\n",
              "      <td>4</td>\n",
              "      <td>239.0</td>\n",
              "      <td>272.0</td>\n",
              "      <td>0</td>\n",
              "      <td>4400</td>\n",
              "      <td>2</td>\n",
              "      <td>5</td>\n",
              "      <td>0</td>\n",
              "      <td>unfurnished</td>\n",
              "      <td>2.990000e+09</td>\n",
              "    </tr>\n",
              "    <tr>\n",
              "      <th>1</th>\n",
              "      <td>Summarecon Bekasi</td>\n",
              "      <td>Bekasi</td>\n",
              "      <td>3</td>\n",
              "      <td>2</td>\n",
              "      <td>55.0</td>\n",
              "      <td>69.0</td>\n",
              "      <td>1</td>\n",
              "      <td>2200</td>\n",
              "      <td>2</td>\n",
              "      <td>1</td>\n",
              "      <td>0</td>\n",
              "      <td>unfurnished</td>\n",
              "      <td>1.270000e+09</td>\n",
              "    </tr>\n",
              "    <tr>\n",
              "      <th>2</th>\n",
              "      <td>Summarecon Bekasi</td>\n",
              "      <td>Bekasi</td>\n",
              "      <td>3</td>\n",
              "      <td>3</td>\n",
              "      <td>119.0</td>\n",
              "      <td>131.0</td>\n",
              "      <td>1</td>\n",
              "      <td>2200</td>\n",
              "      <td>2</td>\n",
              "      <td>1</td>\n",
              "      <td>1</td>\n",
              "      <td>unfurnished</td>\n",
              "      <td>1.950000e+09</td>\n",
              "    </tr>\n",
              "    <tr>\n",
              "      <th>3</th>\n",
              "      <td>Summarecon Bekasi</td>\n",
              "      <td>Bekasi</td>\n",
              "      <td>3</td>\n",
              "      <td>3</td>\n",
              "      <td>180.0</td>\n",
              "      <td>174.0</td>\n",
              "      <td>0</td>\n",
              "      <td>3500</td>\n",
              "      <td>2</td>\n",
              "      <td>6</td>\n",
              "      <td>2</td>\n",
              "      <td>unfurnished</td>\n",
              "      <td>3.300000e+09</td>\n",
              "    </tr>\n",
              "    <tr>\n",
              "      <th>4</th>\n",
              "      <td>Summarecon Bekasi</td>\n",
              "      <td>Bekasi</td>\n",
              "      <td>4</td>\n",
              "      <td>3</td>\n",
              "      <td>328.0</td>\n",
              "      <td>196.0</td>\n",
              "      <td>2</td>\n",
              "      <td>3500</td>\n",
              "      <td>2</td>\n",
              "      <td>9</td>\n",
              "      <td>1</td>\n",
              "      <td>unfurnished</td>\n",
              "      <td>4.500000e+09</td>\n",
              "    </tr>\n",
              "  </tbody>\n",
              "</table>\n",
              "</div>"
            ],
            "text/plain": [
              "            district     city  bedrooms  bathrooms  land_size_m2  \\\n",
              "0  Summarecon Bekasi   Bekasi         4          4         239.0   \n",
              "1  Summarecon Bekasi   Bekasi         3          2          55.0   \n",
              "2  Summarecon Bekasi   Bekasi         3          3         119.0   \n",
              "3  Summarecon Bekasi   Bekasi         3          3         180.0   \n",
              "4  Summarecon Bekasi   Bekasi         4          3         328.0   \n",
              "\n",
              "   building_size_m2  carports  electricity  floors  building_age  garages  \\\n",
              "0             272.0         0         4400       2             5        0   \n",
              "1              69.0         1         2200       2             1        0   \n",
              "2             131.0         1         2200       2             1        1   \n",
              "3             174.0         0         3500       2             6        2   \n",
              "4             196.0         2         3500       2             9        1   \n",
              "\n",
              "     condition         price  \n",
              "0  unfurnished  2.990000e+09  \n",
              "1  unfurnished  1.270000e+09  \n",
              "2  unfurnished  1.950000e+09  \n",
              "3  unfurnished  3.300000e+09  \n",
              "4  unfurnished  4.500000e+09  "
            ]
          },
          "execution_count": 24,
          "metadata": {},
          "output_type": "execute_result"
        }
      ],
      "source": [
        "df.head()"
      ]
    },
    {
      "cell_type": "code",
      "execution_count": 25,
      "metadata": {
        "id": "7xJ3_6rAOy8Z"
      },
      "outputs": [],
      "source": [
        "# Divide the price by 1 million to make the values more manageable\n",
        "df['price'] = df['price'] / 1e6"
      ]
    },
    {
      "cell_type": "markdown",
      "metadata": {
        "id": "4P-4By_IS-v5"
      },
      "source": [
        "## EDA"
      ]
    },
    {
      "cell_type": "code",
      "execution_count": 26,
      "metadata": {
        "colab": {
          "base_uri": "https://localhost:8080/",
          "height": 561
        },
        "id": "p2aAqMStSVcz",
        "outputId": "56c53c53-3f32-4208-f0fd-cd4ca26bfd3d"
      },
      "outputs": [
        {
          "data": {
            "image/png": "[encoded data removed]",
            "text/plain": [
              "<Figure size 1200x600 with 1 Axes>"
            ]
          },
          "metadata": {},
          "output_type": "display_data"
        }
      ],
      "source": [
        "# --- 1. MELIHAT DISTRIBUSI HARGA ---\n",
        "plt.figure(figsize=(12, 6))\n",
        "# Kita gunakan log-transform pada harga agar distribusinya lebih terlihat normal\n",
        "# Ini membantu mengatasi kemiringan (skewness) karena adanya beberapa rumah yang sangat mahal\n",
        "sns.histplot(np.log1p(df['price']), kde=True, bins=50)\n",
        "plt.title('Distribusi Logaritma Harga Properti (dalam Juta Rupiah)')\n",
        "plt.xlabel('Log(1 + Harga)')\n",
        "plt.ylabel('Frekuensi')\n",
        "plt.show()"
      ]
    },
    {
      "cell_type": "code",
      "execution_count": 27,
      "metadata": {
        "colab": {
          "base_uri": "https://localhost:8080/",
          "height": 840
        },
        "id": "FfmfhwRnSdW8",
        "outputId": "c5139eb7-6b20-43b7-8773-caf5b74fe613"
      },
      "outputs": [
        {
          "data": {
            "image/png": "[encoded data removed]",
            "text/plain": [
              "<Figure size 1400x1000 with 2 Axes>"
            ]
          },
          "metadata": {},
          "output_type": "display_data"
        }
      ],
      "source": [
        "# --- 2. MELIHAT KORELASI ANTAR FITUR NUMERIK ---\n",
        "# Kita hanya pilih kolom numerik untuk heatmap korelasi\n",
        "numerical_cols = df.select_dtypes(include=np.number).columns\n",
        "correlation_matrix = df[numerical_cols].corr()\n",
        "\n",
        "plt.figure(figsize=(14, 10))\n",
        "sns.heatmap(correlation_matrix, annot=True, cmap='coolwarm', fmt='.2f', linewidths=.5)\n",
        "plt.title('Heatmap Korelasi Fitur Numerik')\n",
        "plt.show()"
      ]
    },
    {
      "cell_type": "code",
      "execution_count": 28,
      "metadata": {
        "colab": {
          "base_uri": "https://localhost:8080/"
        },
        "id": "YNiFJk8USxPQ",
        "outputId": "c11cd610-b4c4-4654-e15c-3e57125c609a"
      },
      "outputs": [
        {
          "name": "stdout",
          "output_type": "stream",
          "text": [
            "Shape of data before outlier removal: (3553, 13)\n",
            "Shape of data after outlier removal: (3168, 13)\n"
          ]
        }
      ],
      "source": [
        "# Remove outliers using IQR for 'price'\n",
        "Q1 = df['price'].quantile(0.25)\n",
        "Q3 = df['price'].quantile(0.75)\n",
        "IQR = Q3 - Q1\n",
        "\n",
        "lower_bound = Q1 - 1.5 * IQR\n",
        "upper_bound = Q3 + 1.5 * IQR\n",
        "\n",
        "df_cleaned = df[(df['price'] >= lower_bound) & (df['price'] <= upper_bound)].copy()\n",
        "\n",
        "print(f\"Shape of data before outlier removal: {df.shape}\")\n",
        "print(f\"Shape of data after outlier removal: {df_cleaned.shape}\")\n",
        "\n",
        "# Update the dataframe to the cleaned version\n",
        "df = df_cleaned"
      ]
    },
    {
      "cell_type": "code",
      "execution_count": 29,
      "metadata": {
        "colab": {
          "base_uri": "https://localhost:8080/",
          "height": 594
        },
        "id": "FwYU8IDVSrzy",
        "outputId": "f8bc6ee2-34a4-43ac-eced-d542115fa9e8"
      },
      "outputs": [
        {
          "data": {
            "image/png": "[encoded data removed]",
            "text/plain": [
              "<Figure size 1200x700 with 1 Axes>"
            ]
          },
          "metadata": {},
          "output_type": "display_data"
        }
      ],
      "source": [
        "# --- 3. HARGA RATA-RATA BERDASARKAN KOTA ---\n",
        "plt.figure(figsize=(12, 7))\n",
        "# Urutkan bar berdasarkan harga rata-rata\n",
        "city_price_order = df.groupby('city')['price'].mean().sort_values(ascending=False).index\n",
        "\n",
        "sns.boxplot(data=df, x='price', y='city', order=city_price_order)\n",
        "plt.title('Perbandingan Distribusi Harga Properti per Kota')\n",
        "plt.xlabel('Harga (dalam Juta Rupiah)')\n",
        "plt.ylabel('Kota')\n",
        "# Gunakan skala log untuk menangani outlier harga yang sangat tinggi\n",
        "plt.xscale('log')\n",
        "plt.show()"
      ]
    },
    {
      "cell_type": "markdown",
      "metadata": {
        "id": "rxk7YC2_S1Iw"
      },
      "source": [
        "## Preprocessing\n"
      ]
    },
    {
      "cell_type": "code",
      "execution_count": 30,
      "metadata": {
        "id": "UNn8e3dsOdbw"
      },
      "outputs": [],
      "source": [
        "# Separate target variable\n",
        "X = df.drop('price', axis=1)\n",
        "y = df['price']"
      ]
    },
    {
      "cell_type": "code",
      "execution_count": 31,
      "metadata": {
        "id": "0eHiB4PkPWAK"
      },
      "outputs": [],
      "source": [
        "from sklearn.model_selection import train_test_split\n",
        "X_train, X_test, y_train, y_test = train_test_split(X, y, test_size=0.2, random_state=42)"
      ]
    },
    {
      "cell_type": "code",
      "execution_count": 32,
      "metadata": {
        "id": "GB3CHI46NOYj"
      },
      "outputs": [],
      "source": [
        "\n",
        "\n",
        "# Identify categorical and numerical columns (excluding target)\n",
        "categorical_features = X.select_dtypes(include=['object']).columns\n",
        "numerical_features = X.select_dtypes(include=np.number).columns\n",
        "\n",
        "# Create preprocessing pipelines for numerical and categorical features\n",
        "numerical_transformer = Pipeline(steps=[\n",
        "    ('scaler', StandardScaler()) # Scale numerical features\n",
        "])\n",
        "\n",
        "categorical_transformer = Pipeline(steps=[\n",
        "    ('onehot', OneHotEncoder(handle_unknown='ignore')), # One-hot encode categorical features\n",
        "\n",
        "])\n",
        "\n",
        "# Create a column transformer to apply different transformations to different columns\n",
        "preprocessor = ColumnTransformer(\n",
        "    transformers=[\n",
        "        ('num', numerical_transformer, numerical_features),\n",
        "        ('cat', categorical_transformer, categorical_features)\n",
        "    ])"
      ]
    },
    {
      "cell_type": "code",
      "execution_count": 33,
      "metadata": {
        "id": "q5PzGL-BPdYw"
      },
      "outputs": [],
      "source": [
        "X_train_processed = preprocessor.fit_transform(X_train)\n",
        "X_test_processed = preprocessor.transform(X_test)"
      ]
    },
    {
      "cell_type": "code",
      "execution_count": 34,
      "metadata": {
        "colab": {
          "base_uri": "https://localhost:8080/"
        },
        "id": "1TOnSZUNPhLL",
        "outputId": "0de3d71b-a1a1-4605-c273-74d64d03f58a"
      },
      "outputs": [
        {
          "data": {
            "text/plain": [
              "<Compressed Sparse Row sparse matrix of dtype 'float64'\n",
              "\twith 30408 stored elements and shape (2534, 352)>"
            ]
          },
          "execution_count": 34,
          "metadata": {},
          "output_type": "execute_result"
        }
      ],
      "source": [
        "X_train_processed"
      ]
    },
    {
      "cell_type": "markdown",
      "metadata": {
        "id": "t-JbcwHlTgJ_"
      },
      "source": [
        "## TRAIN MODEL"
      ]
    },
    {
      "cell_type": "code",
      "execution_count": 35,
      "metadata": {
        "colab": {
          "base_uri": "https://localhost:8080/"
        },
        "id": "z2vBGSJgPjP_",
        "outputId": "a2f5346d-f809-4542-8d8e-7ea9bc2ff1df"
      },
      "outputs": [
        {
          "name": "stderr",
          "output_type": "stream",
          "text": [
            "2025/08/17 09:30:27 INFO mlflow.tracking.fluent: Experiment with name 'Prediksi Harga Properti v2' does not exist. Creating a new experiment.\n"
          ]
        },
        {
          "name": "stdout",
          "output_type": "stream",
          "text": [
            "Melatih model Linear Regression...\n",
            "--- Hasil untuk Linear Regression ---\n",
            "Mean Absolute Error (MAE): 542.81 (Juta Rupiah)\n",
            "Root Mean Squared Error (RMSE): 1076.35 (Juta Rupiah)\n",
            "R-squared (R²): 0.598\n",
            "------------------------------\n"
          ]
        },
        {
          "name": "stderr",
          "output_type": "stream",
          "text": [
            "2025/08/17 09:30:28 WARNING mlflow.models.model: `artifact_path` is deprecated. Please use `name` instead.\n",
            "2025/08/17 09:30:47 WARNING mlflow.models.model: Model logged without a signature and input example. Please set `input_example` parameter when logging the model to auto infer the model signature.\n",
            "2025/08/17 09:30:48 WARNING mlflow.models.model: `artifact_path` is deprecated. Please use `name` instead.\n"
          ]
        },
        {
          "name": "stdout",
          "output_type": "stream",
          "text": [
            "Melatih model Ridge...\n",
            "--- Hasil untuk Ridge ---\n",
            "Mean Absolute Error (MAE): 538.31 (Juta Rupiah)\n",
            "Root Mean Squared Error (RMSE): 1042.55 (Juta Rupiah)\n",
            "R-squared (R²): 0.623\n",
            "------------------------------\n"
          ]
        },
        {
          "name": "stderr",
          "output_type": "stream",
          "text": [
            "2025/08/17 09:30:56 WARNING mlflow.models.model: Model logged without a signature and input example. Please set `input_example` parameter when logging the model to auto infer the model signature.\n"
          ]
        },
        {
          "name": "stdout",
          "output_type": "stream",
          "text": [
            "Melatih model Random Forest...\n"
          ]
        },
        {
          "name": "stderr",
          "output_type": "stream",
          "text": [
            "2025/08/17 09:31:09 WARNING mlflow.models.model: `artifact_path` is deprecated. Please use `name` instead.\n"
          ]
        },
        {
          "name": "stdout",
          "output_type": "stream",
          "text": [
            "--- Hasil untuk Random Forest ---\n",
            "Mean Absolute Error (MAE): 357.26 (Juta Rupiah)\n",
            "Root Mean Squared Error (RMSE): 647.54 (Juta Rupiah)\n",
            "R-squared (R²): 0.854\n",
            "------------------------------\n"
          ]
        },
        {
          "name": "stderr",
          "output_type": "stream",
          "text": [
            "2025/08/17 09:31:17 WARNING mlflow.models.model: Model logged without a signature and input example. Please set `input_example` parameter when logging the model to auto infer the model signature.\n"
          ]
        },
        {
          "name": "stdout",
          "output_type": "stream",
          "text": [
            "Melatih model XGBoost...\n"
          ]
        },
        {
          "name": "stderr",
          "output_type": "stream",
          "text": [
            "2025/08/17 09:31:18 WARNING mlflow.models.model: `artifact_path` is deprecated. Please use `name` instead.\n"
          ]
        },
        {
          "name": "stdout",
          "output_type": "stream",
          "text": [
            "--- Hasil untuk XGBoost ---\n",
            "Mean Absolute Error (MAE): 333.35 (Juta Rupiah)\n",
            "Root Mean Squared Error (RMSE): 585.82 (Juta Rupiah)\n",
            "R-squared (R²): 0.881\n",
            "------------------------------\n"
          ]
        },
        {
          "name": "stderr",
          "output_type": "stream",
          "text": [
            "2025/08/17 09:31:26 WARNING mlflow.models.model: Model logged without a signature and input example. Please set `input_example` parameter when logging the model to auto infer the model signature.\n"
          ]
        },
        {
          "name": "stdout",
          "output_type": "stream",
          "text": [
            "Semua model telah selesai dilatih dan dicatat di MLflow!\n"
          ]
        }
      ],
      "source": [
        "# Import model-model yang akan kita gunakan\n",
        "from sklearn.linear_model import LinearRegression, Ridge\n",
        "from sklearn.ensemble import RandomForestRegressor\n",
        "from xgboost import XGBRegressor\n",
        "\n",
        "# Import metrik untuk evaluasi\n",
        "from sklearn.metrics import mean_absolute_error, mean_squared_error, r2_score\n",
        "\n",
        "# Import MLflow\n",
        "import mlflow\n",
        "import mlflow.sklearn\n",
        "\n",
        "\n",
        "# 1. Tentukan nama eksperimen di MLflow\n",
        "mlflow.set_tracking_uri(\"file:../mlruns\")\n",
        "mlflow.set_experiment(\"Prediksi Harga Properti v2\")\n",
        "\n",
        "\n",
        "# 2. Siapkan daftar model yang akan diuji\n",
        "models = {\n",
        "    \"Linear Regression\": LinearRegression(),\n",
        "    \"Ridge\": Ridge(alpha=1.0),\n",
        "    \"Random Forest\": RandomForestRegressor(n_estimators=130, random_state=42),\n",
        "    \"XGBoost\": XGBRegressor(n_estimators=130, random_state=42)\n",
        "}\n",
        "\n",
        "# 3. Looping untuk melatih, mengevaluasi, dan mencatat setiap model\n",
        "for model_name, model in models.items():\n",
        "\n",
        "    # Mulai sesi pencatatan MLflow untuk model ini\n",
        "    with mlflow.start_run(run_name=model_name):\n",
        "\n",
        "        # Buat pipeline lengkap: Preprocessing -> Model\n",
        "        pipeline = Pipeline(steps=[\n",
        "            ('preprocessor', preprocessor),\n",
        "            ('regressor', model)\n",
        "        ])\n",
        "\n",
        "        # Latih pipeline\n",
        "        print(f\"Melatih model {model_name}...\")\n",
        "        pipeline.fit(X_train, y_train)\n",
        "\n",
        "        # Buat prediksi di data test\n",
        "        y_pred = pipeline.predict(X_test)\n",
        "\n",
        "        # Hitung metrik evaluasi\n",
        "        mae = mean_absolute_error(y_test, y_pred)\n",
        "        rmse = np.sqrt(mean_squared_error(y_test, y_pred))\n",
        "        r2 = r2_score(y_test, y_pred)\n",
        "\n",
        "        # Tampilkan hasil di notebook\n",
        "        print(f\"--- Hasil untuk {model_name} ---\")\n",
        "        print(f\"Mean Absolute Error (MAE): {mae:.2f} (Juta Rupiah)\")\n",
        "        print(f\"Root Mean Squared Error (RMSE): {rmse:.2f} (Juta Rupiah)\")\n",
        "        print(f\"R-squared (R²): {r2:.3f}\")\n",
        "        print(\"-\" * 30)\n",
        "\n",
        "        # Catat (log) parameter dan metrik ke MLflow\n",
        "        mlflow.log_param(\"model_name\", model_name)\n",
        "        mlflow.log_metric(\"mae\", mae)\n",
        "        mlflow.log_metric(\"rmse\", rmse)\n",
        "        mlflow.log_metric(\"r2_score\", r2)\n",
        "\n",
        "        # Catat (log) model (pipeline) yang sudah dilatih\n",
        "        mlflow.sklearn.log_model(pipeline, \"model\")\n",
        "\n",
        "print(\"Semua model telah selesai dilatih dan dicatat di MLflow!\")"
      ]
    },
    {
      "cell_type": "code",
      "execution_count": 36,
      "metadata": {
        "colab": {
          "base_uri": "https://localhost:8080/"
        },
        "id": "05v1HuzZU21k",
        "outputId": "fa546e91-a48b-406d-fce2-2f262a25984e"
      },
      "outputs": [
        {
          "name": "stdout",
          "output_type": "stream",
          "text": [
            "Memulai Hyperparameter Tuning untuk XGBoost...\n",
            "Fitting 5 folds for each of 50 candidates, totalling 250 fits\n",
            "[CV] END regressor__colsample_bytree=0.8123620356542087, regressor__gamma=0.4753571532049581, regressor__learning_rate=0.37599697090570255, regressor__max_depth=7, regressor__n_estimators=120, regressor__reg_alpha=0.15601864044243652, regressor__subsample=0.7467983561008608; total time=   0.3s\n",
            "[CV] END regressor__colsample_bytree=0.8123620356542087, regressor__gamma=0.4753571532049581, regressor__learning_rate=0.37599697090570255, regressor__max_depth=7, regressor__n_estimators=120, regressor__reg_alpha=0.15601864044243652, regressor__subsample=0.7467983561008608; total time=   0.2s\n",
            "[CV] END regressor__colsample_bytree=0.8123620356542087, regressor__gamma=0.4753571532049581, regressor__learning_rate=0.37599697090570255, regressor__max_depth=7, regressor__n_estimators=120, regressor__reg_alpha=0.15601864044243652, regressor__subsample=0.7467983561008608; total time=   0.2s\n",
            "[CV] END regressor__colsample_bytree=0.8123620356542087, regressor__gamma=0.4753571532049581, regressor__learning_rate=0.37599697090570255, regressor__max_depth=7, regressor__n_estimators=120, regressor__reg_alpha=0.15601864044243652, regressor__subsample=0.7467983561008608; total time=   0.1s\n",
            "[CV] END regressor__colsample_bytree=0.8123620356542087, regressor__gamma=0.4753571532049581, regressor__learning_rate=0.37599697090570255, regressor__max_depth=7, regressor__n_estimators=120, regressor__reg_alpha=0.15601864044243652, regressor__subsample=0.7467983561008608; total time=   0.2s\n",
            "[CV] END regressor__colsample_bytree=0.7174250836504598, regressor__gamma=0.4330880728874676, regressor__learning_rate=0.3105575058716044, regressor__max_depth=5, regressor__n_estimators=408, regressor__reg_alpha=0.9699098521619943, regressor__subsample=0.9497327922401264; total time=   0.4s\n",
            "[CV] END regressor__colsample_bytree=0.7174250836504598, regressor__gamma=0.4330880728874676, regressor__learning_rate=0.3105575058716044, regressor__max_depth=5, regressor__n_estimators=408, regressor__reg_alpha=0.9699098521619943, regressor__subsample=0.9497327922401264; total time=   0.5s\n",
            "[CV] END regressor__colsample_bytree=0.7174250836504598, regressor__gamma=0.4330880728874676, regressor__learning_rate=0.3105575058716044, regressor__max_depth=5, regressor__n_estimators=408, regressor__reg_alpha=0.9699098521619943, regressor__subsample=0.9497327922401264; total time=   0.5s\n",
            "[CV] END regressor__colsample_bytree=0.7174250836504598, regressor__gamma=0.4330880728874676, regressor__learning_rate=0.3105575058716044, regressor__max_depth=5, regressor__n_estimators=408, regressor__reg_alpha=0.9699098521619943, regressor__subsample=0.9497327922401264; total time=   0.6s\n",
            "[CV] END regressor__colsample_bytree=0.7174250836504598, regressor__gamma=0.4330880728874676, regressor__learning_rate=0.3105575058716044, regressor__max_depth=5, regressor__n_estimators=408, regressor__reg_alpha=0.9699098521619943, regressor__subsample=0.9497327922401264; total time=   0.6s\n",
            "[CV] END regressor__colsample_bytree=0.7637017332034828, regressor__gamma=0.09091248360355031, regressor__learning_rate=0.1017022549267169, regressor__max_depth=6, regressor__n_estimators=413, regressor__reg_alpha=0.5247564316322378, regressor__subsample=0.8295835055926347; total time=   0.7s\n",
            "[CV] END regressor__colsample_bytree=0.7637017332034828, regressor__gamma=0.09091248360355031, regressor__learning_rate=0.1017022549267169, regressor__max_depth=6, regressor__n_estimators=413, regressor__reg_alpha=0.5247564316322378, regressor__subsample=0.8295835055926347; total time=   0.7s\n",
            "[CV] END regressor__colsample_bytree=0.7637017332034828, regressor__gamma=0.09091248360355031, regressor__learning_rate=0.1017022549267169, regressor__max_depth=6, regressor__n_estimators=413, regressor__reg_alpha=0.5247564316322378, regressor__subsample=0.8295835055926347; total time=   0.7s\n",
            "[CV] END regressor__colsample_bytree=0.7637017332034828, regressor__gamma=0.09091248360355031, regressor__learning_rate=0.1017022549267169, regressor__max_depth=6, regressor__n_estimators=413, regressor__reg_alpha=0.5247564316322378, regressor__subsample=0.8295835055926347; total time=   0.7s\n",
            "[CV] END regressor__colsample_bytree=0.7637017332034828, regressor__gamma=0.09091248360355031, regressor__learning_rate=0.1017022549267169, regressor__max_depth=6, regressor__n_estimators=413, regressor__reg_alpha=0.5247564316322378, regressor__subsample=0.8295835055926347; total time=   0.6s\n",
            "[CV] END regressor__colsample_bytree=0.7873687420594125, regressor__gamma=0.30592644736118974, regressor__learning_rate=0.07974693032602091, regressor__max_depth=6, regressor__n_estimators=289, regressor__reg_alpha=0.0906064345328208, regressor__subsample=0.8855158027999261; total time=   0.4s\n",
            "[CV] END regressor__colsample_bytree=0.7873687420594125, regressor__gamma=0.30592644736118974, regressor__learning_rate=0.07974693032602091, regressor__max_depth=6, regressor__n_estimators=289, regressor__reg_alpha=0.0906064345328208, regressor__subsample=0.8855158027999261; total time=   0.4s\n",
            "[CV] END regressor__colsample_bytree=0.7873687420594125, regressor__gamma=0.30592644736118974, regressor__learning_rate=0.07974693032602091, regressor__max_depth=6, regressor__n_estimators=289, regressor__reg_alpha=0.0906064345328208, regressor__subsample=0.8855158027999261; total time=   0.5s\n",
            "[CV] END regressor__colsample_bytree=0.7873687420594125, regressor__gamma=0.30592644736118974, regressor__learning_rate=0.07974693032602091, regressor__max_depth=6, regressor__n_estimators=289, regressor__reg_alpha=0.0906064345328208, regressor__subsample=0.8855158027999261; total time=   0.4s\n",
            "[CV] END regressor__colsample_bytree=0.7873687420594125, regressor__gamma=0.30592644736118974, regressor__learning_rate=0.07974693032602091, regressor__max_depth=6, regressor__n_estimators=289, regressor__reg_alpha=0.0906064345328208, regressor__subsample=0.8855158027999261; total time=   0.4s\n",
            "[CV] END regressor__colsample_bytree=0.8147385973801488, regressor__gamma=0.4916154429033941, regressor__learning_rate=0.24338144662398997, regressor__max_depth=7, regressor__n_estimators=120, regressor__reg_alpha=0.450499251969543, regressor__subsample=0.7039794883479599; total time=   0.2s\n",
            "[CV] END regressor__colsample_bytree=0.8147385973801488, regressor__gamma=0.4916154429033941, regressor__learning_rate=0.24338144662398997, regressor__max_depth=7, regressor__n_estimators=120, regressor__reg_alpha=0.450499251969543, regressor__subsample=0.7039794883479599; total time=   0.2s\n",
            "[CV] END regressor__colsample_bytree=0.8147385973801488, regressor__gamma=0.4916154429033941, regressor__learning_rate=0.24338144662398997, regressor__max_depth=7, regressor__n_estimators=120, regressor__reg_alpha=0.450499251969543, regressor__subsample=0.7039794883479599; total time=   0.2s\n",
            "[CV] END regressor__colsample_bytree=0.8147385973801488, regressor__gamma=0.4916154429033941, regressor__learning_rate=0.24338144662398997, regressor__max_depth=7, regressor__n_estimators=120, regressor__reg_alpha=0.450499251969543, regressor__subsample=0.7039794883479599; total time=   0.2s\n",
            "[CV] END regressor__colsample_bytree=0.8147385973801488, regressor__gamma=0.4916154429033941, regressor__learning_rate=0.24338144662398997, regressor__max_depth=7, regressor__n_estimators=120, regressor__reg_alpha=0.450499251969543, regressor__subsample=0.7039794883479599; total time=   0.2s\n",
            "[CV] END regressor__colsample_bytree=0.9826605267054558, regressor__gamma=0.28164410892276964, regressor__learning_rate=0.20270825126995806, regressor__max_depth=4, regressor__n_estimators=664, regressor__reg_alpha=0.230893825622149, regressor__subsample=0.7723076398078035; total time=   0.6s\n",
            "[CV] END regressor__colsample_bytree=0.9826605267054558, regressor__gamma=0.28164410892276964, regressor__learning_rate=0.20270825126995806, regressor__max_depth=4, regressor__n_estimators=664, regressor__reg_alpha=0.230893825622149, regressor__subsample=0.7723076398078035; total time=   0.7s\n",
            "[CV] END regressor__colsample_bytree=0.9826605267054558, regressor__gamma=0.28164410892276964, regressor__learning_rate=0.20270825126995806, regressor__max_depth=4, regressor__n_estimators=664, regressor__reg_alpha=0.230893825622149, regressor__subsample=0.7723076398078035; total time=   0.7s\n",
            "[CV] END regressor__colsample_bytree=0.9826605267054558, regressor__gamma=0.28164410892276964, regressor__learning_rate=0.20270825126995806, regressor__max_depth=4, regressor__n_estimators=664, regressor__reg_alpha=0.230893825622149, regressor__subsample=0.7723076398078035; total time=   0.6s\n",
            "[CV] END regressor__colsample_bytree=0.9826605267054558, regressor__gamma=0.28164410892276964, regressor__learning_rate=0.20270825126995806, regressor__max_depth=4, regressor__n_estimators=664, regressor__reg_alpha=0.230893825622149, regressor__subsample=0.7723076398078035; total time=   0.7s\n",
            "[CV] END regressor__colsample_bytree=0.9049790556476374, regressor__gamma=0.30499832889131046, regressor__learning_rate=0.4265974558680822, regressor__max_depth=5, regressor__n_estimators=305, regressor__reg_alpha=0.3910606075732408, regressor__subsample=0.7546708263364187; total time=   0.4s\n",
            "[CV] END regressor__colsample_bytree=0.9049790556476374, regressor__gamma=0.30499832889131046, regressor__learning_rate=0.4265974558680822, regressor__max_depth=5, regressor__n_estimators=305, regressor__reg_alpha=0.3910606075732408, regressor__subsample=0.7546708263364187; total time=   0.3s\n",
            "[CV] END regressor__colsample_bytree=0.9049790556476374, regressor__gamma=0.30499832889131046, regressor__learning_rate=0.4265974558680822, regressor__max_depth=5, regressor__n_estimators=305, regressor__reg_alpha=0.3910606075732408, regressor__subsample=0.7546708263364187; total time=   0.4s\n",
            "[CV] END regressor__colsample_bytree=0.9049790556476374, regressor__gamma=0.30499832889131046, regressor__learning_rate=0.4265974558680822, regressor__max_depth=5, regressor__n_estimators=305, regressor__reg_alpha=0.3910606075732408, regressor__subsample=0.7546708263364187; total time=   0.4s\n",
            "[CV] END regressor__colsample_bytree=0.9049790556476374, regressor__gamma=0.30499832889131046, regressor__learning_rate=0.4265974558680822, regressor__max_depth=5, regressor__n_estimators=305, regressor__reg_alpha=0.3910606075732408, regressor__subsample=0.7546708263364187; total time=   0.4s\n",
            "[CV] END regressor__colsample_bytree=0.9266084230952957, regressor__gamma=0.21257793724562235, regressor__learning_rate=0.11397083143409441, regressor__max_depth=6, regressor__n_estimators=576, regressor__reg_alpha=0.9695846277645586, regressor__subsample=0.9325398470083344; total time=   1.2s\n",
            "[CV] END regressor__colsample_bytree=0.9266084230952957, regressor__gamma=0.21257793724562235, regressor__learning_rate=0.11397083143409441, regressor__max_depth=6, regressor__n_estimators=576, regressor__reg_alpha=0.9695846277645586, regressor__subsample=0.9325398470083344; total time=   1.0s\n",
            "[CV] END regressor__colsample_bytree=0.9266084230952957, regressor__gamma=0.21257793724562235, regressor__learning_rate=0.11397083143409441, regressor__max_depth=6, regressor__n_estimators=576, regressor__reg_alpha=0.9695846277645586, regressor__subsample=0.9325398470083344; total time=   1.0s\n",
            "[CV] END regressor__colsample_bytree=0.9266084230952957, regressor__gamma=0.21257793724562235, regressor__learning_rate=0.11397083143409441, regressor__max_depth=6, regressor__n_estimators=576, regressor__reg_alpha=0.9695846277645586, regressor__subsample=0.9325398470083344; total time=   1.0s\n",
            "[CV] END regressor__colsample_bytree=0.9266084230952957, regressor__gamma=0.21257793724562235, regressor__learning_rate=0.11397083143409441, regressor__max_depth=6, regressor__n_estimators=576, regressor__reg_alpha=0.9695846277645586, regressor__subsample=0.9325398470083344; total time=   1.1s\n",
            "[CV] END regressor__colsample_bytree=0.9818496824692566, regressor__gamma=0.4474136752138244, regressor__learning_rate=0.3089499894055426, regressor__max_depth=9, regressor__n_estimators=555, regressor__reg_alpha=0.5704439744053994, regressor__subsample=0.856250278007747; total time=   3.0s\n",
            "[CV] END regressor__colsample_bytree=0.9818496824692566, regressor__gamma=0.4474136752138244, regressor__learning_rate=0.3089499894055426, regressor__max_depth=9, regressor__n_estimators=555, regressor__reg_alpha=0.5704439744053994, regressor__subsample=0.856250278007747; total time=   2.5s\n",
            "[CV] END regressor__colsample_bytree=0.9818496824692566, regressor__gamma=0.4474136752138244, regressor__learning_rate=0.3089499894055426, regressor__max_depth=9, regressor__n_estimators=555, regressor__reg_alpha=0.5704439744053994, regressor__subsample=0.856250278007747; total time=   2.3s\n",
            "[CV] END regressor__colsample_bytree=0.9818496824692566, regressor__gamma=0.4474136752138244, regressor__learning_rate=0.3089499894055426, regressor__max_depth=9, regressor__n_estimators=555, regressor__reg_alpha=0.5704439744053994, regressor__subsample=0.856250278007747; total time=   2.4s\n",
            "[CV] END regressor__colsample_bytree=0.9818496824692566, regressor__gamma=0.4474136752138244, regressor__learning_rate=0.3089499894055426, regressor__max_depth=9, regressor__n_estimators=555, regressor__reg_alpha=0.5704439744053994, regressor__subsample=0.856250278007747; total time=   1.9s\n",
            "[CV] END regressor__colsample_bytree=0.9883516073048046, regressor__gamma=0.4222669243390757, regressor__learning_rate=0.38366005506869044, regressor__max_depth=9, regressor__n_estimators=152, regressor__reg_alpha=0.5867511656638482, regressor__subsample=0.9895765921792413; total time=   0.4s\n",
            "[CV] END regressor__colsample_bytree=0.9883516073048046, regressor__gamma=0.4222669243390757, regressor__learning_rate=0.38366005506869044, regressor__max_depth=9, regressor__n_estimators=152, regressor__reg_alpha=0.5867511656638482, regressor__subsample=0.9895765921792413; total time=   0.4s\n",
            "[CV] END regressor__colsample_bytree=0.9883516073048046, regressor__gamma=0.4222669243390757, regressor__learning_rate=0.38366005506869044, regressor__max_depth=9, regressor__n_estimators=152, regressor__reg_alpha=0.5867511656638482, regressor__subsample=0.9895765921792413; total time=   0.5s\n",
            "[CV] END regressor__colsample_bytree=0.9883516073048046, regressor__gamma=0.4222669243390757, regressor__learning_rate=0.38366005506869044, regressor__max_depth=9, regressor__n_estimators=152, regressor__reg_alpha=0.5867511656638482, regressor__subsample=0.9895765921792413; total time=   0.5s\n",
            "[CV] END regressor__colsample_bytree=0.9883516073048046, regressor__gamma=0.4222669243390757, regressor__learning_rate=0.38366005506869044, regressor__max_depth=9, regressor__n_estimators=152, regressor__reg_alpha=0.5867511656638482, regressor__subsample=0.9895765921792413; total time=   0.7s\n",
            "[CV] END regressor__colsample_bytree=0.8821102743060054, regressor__gamma=0.13799959101127168, regressor__learning_rate=0.1581367528520412, regressor__max_depth=7, regressor__n_estimators=164, regressor__reg_alpha=0.01563640674119393, regressor__subsample=0.8270204442119109; total time=   0.3s\n",
            "[CV] END regressor__colsample_bytree=0.8821102743060054, regressor__gamma=0.13799959101127168, regressor__learning_rate=0.1581367528520412, regressor__max_depth=7, regressor__n_estimators=164, regressor__reg_alpha=0.01563640674119393, regressor__subsample=0.8270204442119109; total time=   0.3s\n",
            "[CV] END regressor__colsample_bytree=0.8821102743060054, regressor__gamma=0.13799959101127168, regressor__learning_rate=0.1581367528520412, regressor__max_depth=7, regressor__n_estimators=164, regressor__reg_alpha=0.01563640674119393, regressor__subsample=0.8270204442119109; total time=   0.3s\n",
            "[CV] END regressor__colsample_bytree=0.8821102743060054, regressor__gamma=0.13799959101127168, regressor__learning_rate=0.1581367528520412, regressor__max_depth=7, regressor__n_estimators=164, regressor__reg_alpha=0.01563640674119393, regressor__subsample=0.8270204442119109; total time=   0.3s\n",
            "[CV] END regressor__colsample_bytree=0.8821102743060054, regressor__gamma=0.13799959101127168, regressor__learning_rate=0.1581367528520412, regressor__max_depth=7, regressor__n_estimators=164, regressor__reg_alpha=0.01563640674119393, regressor__subsample=0.8270204442119109; total time=   0.3s\n",
            "[CV] END regressor__colsample_bytree=0.8184644554526709, regressor__gamma=0.14674408735901906, regressor__learning_rate=0.01703991135754223, regressor__max_depth=5, regressor__n_estimators=692, regressor__reg_alpha=0.71134195274865, regressor__subsample=0.9370526621593617; total time=   1.6s\n",
            "[CV] END regressor__colsample_bytree=0.8184644554526709, regressor__gamma=0.14674408735901906, regressor__learning_rate=0.01703991135754223, regressor__max_depth=5, regressor__n_estimators=692, regressor__reg_alpha=0.71134195274865, regressor__subsample=0.9370526621593617; total time=   1.2s\n",
            "[CV] END regressor__colsample_bytree=0.8184644554526709, regressor__gamma=0.14674408735901906, regressor__learning_rate=0.01703991135754223, regressor__max_depth=5, regressor__n_estimators=692, regressor__reg_alpha=0.71134195274865, regressor__subsample=0.9370526621593617; total time=   1.3s\n",
            "[CV] END regressor__colsample_bytree=0.8184644554526709, regressor__gamma=0.14674408735901906, regressor__learning_rate=0.01703991135754223, regressor__max_depth=5, regressor__n_estimators=692, regressor__reg_alpha=0.71134195274865, regressor__subsample=0.9370526621593617; total time=   1.5s\n",
            "[CV] END regressor__colsample_bytree=0.8184644554526709, regressor__gamma=0.14674408735901906, regressor__learning_rate=0.01703991135754223, regressor__max_depth=5, regressor__n_estimators=692, regressor__reg_alpha=0.71134195274865, regressor__subsample=0.9370526621593617; total time=   1.1s\n",
            "[CV] END regressor__colsample_bytree=0.8817879924343034, regressor__gamma=0.4631504392566745, regressor__learning_rate=0.33553851275097224, regressor__max_depth=6, regressor__n_estimators=234, regressor__reg_alpha=0.8500385777897993, regressor__subsample=0.8348352022414609; total time=   0.5s\n",
            "[CV] END regressor__colsample_bytree=0.8817879924343034, regressor__gamma=0.4631504392566745, regressor__learning_rate=0.33553851275097224, regressor__max_depth=6, regressor__n_estimators=234, regressor__reg_alpha=0.8500385777897993, regressor__subsample=0.8348352022414609; total time=   0.6s\n",
            "[CV] END regressor__colsample_bytree=0.8817879924343034, regressor__gamma=0.4631504392566745, regressor__learning_rate=0.33553851275097224, regressor__max_depth=6, regressor__n_estimators=234, regressor__reg_alpha=0.8500385777897993, regressor__subsample=0.8348352022414609; total time=   0.4s\n",
            "[CV] END regressor__colsample_bytree=0.8817879924343034, regressor__gamma=0.4631504392566745, regressor__learning_rate=0.33553851275097224, regressor__max_depth=6, regressor__n_estimators=234, regressor__reg_alpha=0.8500385777897993, regressor__subsample=0.8348352022414609; total time=   0.5s\n",
            "[CV] END regressor__colsample_bytree=0.8817879924343034, regressor__gamma=0.4631504392566745, regressor__learning_rate=0.33553851275097224, regressor__max_depth=6, regressor__n_estimators=234, regressor__reg_alpha=0.8500385777897993, regressor__subsample=0.8348352022414609; total time=   0.3s\n",
            "[CV] END regressor__colsample_bytree=0.7286230349471233, regressor__gamma=0.18540912609913318, regressor__learning_rate=0.34442062633180365, regressor__max_depth=7, regressor__n_estimators=198, regressor__reg_alpha=0.5912977877077271, regressor__subsample=0.7824165378970191; total time=   0.3s\n",
            "[CV] END regressor__colsample_bytree=0.7286230349471233, regressor__gamma=0.18540912609913318, regressor__learning_rate=0.34442062633180365, regressor__max_depth=7, regressor__n_estimators=198, regressor__reg_alpha=0.5912977877077271, regressor__subsample=0.7824165378970191; total time=   0.4s\n",
            "[CV] END regressor__colsample_bytree=0.7286230349471233, regressor__gamma=0.18540912609913318, regressor__learning_rate=0.34442062633180365, regressor__max_depth=7, regressor__n_estimators=198, regressor__reg_alpha=0.5912977877077271, regressor__subsample=0.7824165378970191; total time=   0.3s\n",
            "[CV] END regressor__colsample_bytree=0.7286230349471233, regressor__gamma=0.18540912609913318, regressor__learning_rate=0.34442062633180365, regressor__max_depth=7, regressor__n_estimators=198, regressor__reg_alpha=0.5912977877077271, regressor__subsample=0.7824165378970191; total time=   0.3s\n",
            "[CV] END regressor__colsample_bytree=0.7286230349471233, regressor__gamma=0.18540912609913318, regressor__learning_rate=0.34442062633180365, regressor__max_depth=7, regressor__n_estimators=198, regressor__reg_alpha=0.5912977877077271, regressor__subsample=0.7824165378970191; total time=   0.3s\n",
            "[CV] END regressor__colsample_bytree=0.8683730277543102, regressor__gamma=0.19146343737689492, regressor__learning_rate=0.4958560476945519, regressor__max_depth=5, regressor__n_estimators=104, regressor__reg_alpha=0.5612771975694962, regressor__subsample=0.9312901539863683; total time=   0.1s\n",
            "[CV] END regressor__colsample_bytree=0.8683730277543102, regressor__gamma=0.19146343737689492, regressor__learning_rate=0.4958560476945519, regressor__max_depth=5, regressor__n_estimators=104, regressor__reg_alpha=0.5612771975694962, regressor__subsample=0.9312901539863683; total time=   0.1s\n",
            "[CV] END regressor__colsample_bytree=0.8683730277543102, regressor__gamma=0.19146343737689492, regressor__learning_rate=0.4958560476945519, regressor__max_depth=5, regressor__n_estimators=104, regressor__reg_alpha=0.5612771975694962, regressor__subsample=0.9312901539863683; total time=   0.1s\n",
            "[CV] END regressor__colsample_bytree=0.8683730277543102, regressor__gamma=0.19146343737689492, regressor__learning_rate=0.4958560476945519, regressor__max_depth=5, regressor__n_estimators=104, regressor__reg_alpha=0.5612771975694962, regressor__subsample=0.9312901539863683; total time=   0.1s\n",
            "[CV] END regressor__colsample_bytree=0.8683730277543102, regressor__gamma=0.19146343737689492, regressor__learning_rate=0.4958560476945519, regressor__max_depth=5, regressor__n_estimators=104, regressor__reg_alpha=0.5612771975694962, regressor__subsample=0.9312901539863683; total time=   0.1s\n",
            "[CV] END regressor__colsample_bytree=0.8481386789093172, regressor__gamma=0.26136641469099703, regressor__learning_rate=0.22377050917927482, regressor__max_depth=4, regressor__n_estimators=560, regressor__reg_alpha=0.2017192023353962, regressor__subsample=0.9687290787020557; total time=   0.5s\n",
            "[CV] END regressor__colsample_bytree=0.8481386789093172, regressor__gamma=0.26136641469099703, regressor__learning_rate=0.22377050917927482, regressor__max_depth=4, regressor__n_estimators=560, regressor__reg_alpha=0.2017192023353962, regressor__subsample=0.9687290787020557; total time=   0.5s\n",
            "[CV] END regressor__colsample_bytree=0.8481386789093172, regressor__gamma=0.26136641469099703, regressor__learning_rate=0.22377050917927482, regressor__max_depth=4, regressor__n_estimators=560, regressor__reg_alpha=0.2017192023353962, regressor__subsample=0.9687290787020557; total time=   0.9s\n",
            "[CV] END regressor__colsample_bytree=0.8481386789093172, regressor__gamma=0.26136641469099703, regressor__learning_rate=0.22377050917927482, regressor__max_depth=4, regressor__n_estimators=560, regressor__reg_alpha=0.2017192023353962, regressor__subsample=0.9687290787020557; total time=   0.7s\n",
            "[CV] END regressor__colsample_bytree=0.8481386789093172, regressor__gamma=0.26136641469099703, regressor__learning_rate=0.22377050917927482, regressor__max_depth=4, regressor__n_estimators=560, regressor__reg_alpha=0.2017192023353962, regressor__subsample=0.9687290787020557; total time=   0.5s\n",
            "[CV] END regressor__colsample_bytree=0.8426110669546335, regressor__gamma=0.28163778598819184, regressor__learning_rate=0.35775804321306376, regressor__max_depth=7, regressor__n_estimators=506, regressor__reg_alpha=0.6044173792778172, regressor__subsample=0.8619523273905019; total time=   0.9s\n",
            "[CV] END regressor__colsample_bytree=0.8426110669546335, regressor__gamma=0.28163778598819184, regressor__learning_rate=0.35775804321306376, regressor__max_depth=7, regressor__n_estimators=506, regressor__reg_alpha=0.6044173792778172, regressor__subsample=0.8619523273905019; total time=   0.9s\n",
            "[CV] END regressor__colsample_bytree=0.8426110669546335, regressor__gamma=0.28163778598819184, regressor__learning_rate=0.35775804321306376, regressor__max_depth=7, regressor__n_estimators=506, regressor__reg_alpha=0.6044173792778172, regressor__subsample=0.8619523273905019; total time=   0.9s\n",
            "[CV] END regressor__colsample_bytree=0.8426110669546335, regressor__gamma=0.28163778598819184, regressor__learning_rate=0.35775804321306376, regressor__max_depth=7, regressor__n_estimators=506, regressor__reg_alpha=0.6044173792778172, regressor__subsample=0.8619523273905019; total time=   0.9s\n",
            "[CV] END regressor__colsample_bytree=0.8426110669546335, regressor__gamma=0.28163778598819184, regressor__learning_rate=0.35775804321306376, regressor__max_depth=7, regressor__n_estimators=506, regressor__reg_alpha=0.6044173792778172, regressor__subsample=0.8619523273905019; total time=   1.0s\n",
            "[CV] END regressor__colsample_bytree=0.7609183674204307, regressor__gamma=0.4714267852789905, regressor__learning_rate=0.309432733244268, regressor__max_depth=5, regressor__n_estimators=185, regressor__reg_alpha=0.8804678390152577, regressor__subsample=0.8873062144401379; total time=   0.6s\n",
            "[CV] END regressor__colsample_bytree=0.7609183674204307, regressor__gamma=0.4714267852789905, regressor__learning_rate=0.309432733244268, regressor__max_depth=5, regressor__n_estimators=185, regressor__reg_alpha=0.8804678390152577, regressor__subsample=0.8873062144401379; total time=   0.2s\n",
            "[CV] END regressor__colsample_bytree=0.7609183674204307, regressor__gamma=0.4714267852789905, regressor__learning_rate=0.309432733244268, regressor__max_depth=5, regressor__n_estimators=185, regressor__reg_alpha=0.8804678390152577, regressor__subsample=0.8873062144401379; total time=   0.6s\n",
            "[CV] END regressor__colsample_bytree=0.7609183674204307, regressor__gamma=0.4714267852789905, regressor__learning_rate=0.309432733244268, regressor__max_depth=5, regressor__n_estimators=185, regressor__reg_alpha=0.8804678390152577, regressor__subsample=0.8873062144401379; total time=   0.2s\n",
            "[CV] END regressor__colsample_bytree=0.7609183674204307, regressor__gamma=0.4714267852789905, regressor__learning_rate=0.309432733244268, regressor__max_depth=5, regressor__n_estimators=185, regressor__reg_alpha=0.8804678390152577, regressor__subsample=0.8873062144401379; total time=   0.2s\n",
            "[CV] END regressor__colsample_bytree=0.7886901057513142, regressor__gamma=0.052747129915135305, regressor__learning_rate=0.23826728524145513, regressor__max_depth=6, regressor__n_estimators=655, regressor__reg_alpha=0.4165099478703662, regressor__subsample=0.9649840776756604; total time=   1.1s\n",
            "[CV] END regressor__colsample_bytree=0.7886901057513142, regressor__gamma=0.052747129915135305, regressor__learning_rate=0.23826728524145513, regressor__max_depth=6, regressor__n_estimators=655, regressor__reg_alpha=0.4165099478703662, regressor__subsample=0.9649840776756604; total time=   0.9s\n",
            "[CV] END regressor__colsample_bytree=0.7886901057513142, regressor__gamma=0.052747129915135305, regressor__learning_rate=0.23826728524145513, regressor__max_depth=6, regressor__n_estimators=655, regressor__reg_alpha=0.4165099478703662, regressor__subsample=0.9649840776756604; total time=   1.0s\n",
            "[CV] END regressor__colsample_bytree=0.7886901057513142, regressor__gamma=0.052747129915135305, regressor__learning_rate=0.23826728524145513, regressor__max_depth=6, regressor__n_estimators=655, regressor__reg_alpha=0.4165099478703662, regressor__subsample=0.9649840776756604; total time=   1.2s\n",
            "[CV] END regressor__colsample_bytree=0.7886901057513142, regressor__gamma=0.052747129915135305, regressor__learning_rate=0.23826728524145513, regressor__max_depth=6, regressor__n_estimators=655, regressor__reg_alpha=0.4165099478703662, regressor__subsample=0.9649840776756604; total time=   1.2s\n",
            "[CV] END regressor__colsample_bytree=0.7973035063015821, regressor__gamma=0.061043977350336676, regressor__learning_rate=0.18814891903848746, regressor__max_depth=8, regressor__n_estimators=324, regressor__reg_alpha=0.2721322493846353, regressor__subsample=0.8943070361624086; total time=   0.8s\n",
            "[CV] END regressor__colsample_bytree=0.7973035063015821, regressor__gamma=0.061043977350336676, regressor__learning_rate=0.18814891903848746, regressor__max_depth=8, regressor__n_estimators=324, regressor__reg_alpha=0.2721322493846353, regressor__subsample=0.8943070361624086; total time=   0.7s\n",
            "[CV] END regressor__colsample_bytree=0.7973035063015821, regressor__gamma=0.061043977350336676, regressor__learning_rate=0.18814891903848746, regressor__max_depth=8, regressor__n_estimators=324, regressor__reg_alpha=0.2721322493846353, regressor__subsample=0.8943070361624086; total time=   0.7s\n",
            "[CV] END regressor__colsample_bytree=0.7973035063015821, regressor__gamma=0.061043977350336676, regressor__learning_rate=0.18814891903848746, regressor__max_depth=8, regressor__n_estimators=324, regressor__reg_alpha=0.2721322493846353, regressor__subsample=0.8943070361624086; total time=   0.8s\n",
            "[CV] END regressor__colsample_bytree=0.7973035063015821, regressor__gamma=0.061043977350336676, regressor__learning_rate=0.18814891903848746, regressor__max_depth=8, regressor__n_estimators=324, regressor__reg_alpha=0.2721322493846353, regressor__subsample=0.8943070361624086; total time=   1.1s\n",
            "[CV] END regressor__colsample_bytree=0.7001561130985947, regressor__gamma=0.1762844281670845, regressor__learning_rate=0.16239062907901453, regressor__max_depth=8, regressor__n_estimators=555, regressor__reg_alpha=0.534089419375442, regressor__subsample=0.8454489914076949; total time=   1.3s\n",
            "[CV] END regressor__colsample_bytree=0.7001561130985947, regressor__gamma=0.1762844281670845, regressor__learning_rate=0.16239062907901453, regressor__max_depth=8, regressor__n_estimators=555, regressor__reg_alpha=0.534089419375442, regressor__subsample=0.8454489914076949; total time=   1.0s\n",
            "[CV] END regressor__colsample_bytree=0.7001561130985947, regressor__gamma=0.1762844281670845, regressor__learning_rate=0.16239062907901453, regressor__max_depth=8, regressor__n_estimators=555, regressor__reg_alpha=0.534089419375442, regressor__subsample=0.8454489914076949; total time=   1.0s\n",
            "[CV] END regressor__colsample_bytree=0.7001561130985947, regressor__gamma=0.1762844281670845, regressor__learning_rate=0.16239062907901453, regressor__max_depth=8, regressor__n_estimators=555, regressor__reg_alpha=0.534089419375442, regressor__subsample=0.8454489914076949; total time=   1.3s\n",
            "[CV] END regressor__colsample_bytree=0.7001561130985947, regressor__gamma=0.1762844281670845, regressor__learning_rate=0.16239062907901453, regressor__max_depth=8, regressor__n_estimators=555, regressor__reg_alpha=0.534089419375442, regressor__subsample=0.8454489914076949; total time=   1.1s\n",
            "[CV] END regressor__colsample_bytree=0.9077308098670811, regressor__gamma=0.13470616689926074, regressor__learning_rate=0.1320627611238871, regressor__max_depth=5, regressor__n_estimators=473, regressor__reg_alpha=0.21876421957307024, regressor__subsample=0.8674306006052023; total time=   0.5s\n",
            "[CV] END regressor__colsample_bytree=0.9077308098670811, regressor__gamma=0.13470616689926074, regressor__learning_rate=0.1320627611238871, regressor__max_depth=5, regressor__n_estimators=473, regressor__reg_alpha=0.21876421957307024, regressor__subsample=0.8674306006052023; total time=   0.5s\n",
            "[CV] END regressor__colsample_bytree=0.9077308098670811, regressor__gamma=0.13470616689926074, regressor__learning_rate=0.1320627611238871, regressor__max_depth=5, regressor__n_estimators=473, regressor__reg_alpha=0.21876421957307024, regressor__subsample=0.8674306006052023; total time=   0.6s\n",
            "[CV] END regressor__colsample_bytree=0.9077308098670811, regressor__gamma=0.13470616689926074, regressor__learning_rate=0.1320627611238871, regressor__max_depth=5, regressor__n_estimators=473, regressor__reg_alpha=0.21876421957307024, regressor__subsample=0.8674306006052023; total time=   0.7s\n",
            "[CV] END regressor__colsample_bytree=0.9077308098670811, regressor__gamma=0.13470616689926074, regressor__learning_rate=0.1320627611238871, regressor__max_depth=5, regressor__n_estimators=473, regressor__reg_alpha=0.21876421957307024, regressor__subsample=0.8674306006052023; total time=   0.6s\n",
            "[CV] END regressor__colsample_bytree=0.8211508513174122, regressor__gamma=0.03244612355449078, regressor__learning_rate=0.13695770696717235, regressor__max_depth=6, regressor__n_estimators=609, regressor__reg_alpha=0.6963042728397884, regressor__subsample=0.9136811769773325; total time=   1.5s\n",
            "[CV] END regressor__colsample_bytree=0.8211508513174122, regressor__gamma=0.03244612355449078, regressor__learning_rate=0.13695770696717235, regressor__max_depth=6, regressor__n_estimators=609, regressor__reg_alpha=0.6963042728397884, regressor__subsample=0.9136811769773325; total time=   1.2s\n",
            "[CV] END regressor__colsample_bytree=0.8211508513174122, regressor__gamma=0.03244612355449078, regressor__learning_rate=0.13695770696717235, regressor__max_depth=6, regressor__n_estimators=609, regressor__reg_alpha=0.6963042728397884, regressor__subsample=0.9136811769773325; total time=   1.0s\n",
            "[CV] END regressor__colsample_bytree=0.8211508513174122, regressor__gamma=0.03244612355449078, regressor__learning_rate=0.13695770696717235, regressor__max_depth=6, regressor__n_estimators=609, regressor__reg_alpha=0.6963042728397884, regressor__subsample=0.9136811769773325; total time=   0.9s\n",
            "[CV] END regressor__colsample_bytree=0.8211508513174122, regressor__gamma=0.03244612355449078, regressor__learning_rate=0.13695770696717235, regressor__max_depth=6, regressor__n_estimators=609, regressor__reg_alpha=0.6963042728397884, regressor__subsample=0.9136811769773325; total time=   0.9s\n",
            "[CV] END regressor__colsample_bytree=0.74442607898602, regressor__gamma=0.49887024252447093, regressor__learning_rate=0.1433905071376425, regressor__max_depth=4, regressor__n_estimators=319, regressor__reg_alpha=0.05147875124998935, regressor__subsample=0.7835939392709834; total time=   0.3s\n",
            "[CV] END regressor__colsample_bytree=0.74442607898602, regressor__gamma=0.49887024252447093, regressor__learning_rate=0.1433905071376425, regressor__max_depth=4, regressor__n_estimators=319, regressor__reg_alpha=0.05147875124998935, regressor__subsample=0.7835939392709834; total time=   0.3s\n",
            "[CV] END regressor__colsample_bytree=0.74442607898602, regressor__gamma=0.49887024252447093, regressor__learning_rate=0.1433905071376425, regressor__max_depth=4, regressor__n_estimators=319, regressor__reg_alpha=0.05147875124998935, regressor__subsample=0.7835939392709834; total time=   0.3s\n",
            "[CV] END regressor__colsample_bytree=0.74442607898602, regressor__gamma=0.49887024252447093, regressor__learning_rate=0.1433905071376425, regressor__max_depth=4, regressor__n_estimators=319, regressor__reg_alpha=0.05147875124998935, regressor__subsample=0.7835939392709834; total time=   0.4s\n",
            "[CV] END regressor__colsample_bytree=0.74442607898602, regressor__gamma=0.49887024252447093, regressor__learning_rate=0.1433905071376425, regressor__max_depth=4, regressor__n_estimators=319, regressor__reg_alpha=0.05147875124998935, regressor__subsample=0.7835939392709834; total time=   0.4s\n",
            "[CV] END regressor__colsample_bytree=0.9724797657899961, regressor__gamma=0.11978094533348621, regressor__learning_rate=0.08244743604561154, regressor__max_depth=6, regressor__n_estimators=515, regressor__reg_alpha=0.5926967238793935, regressor__subsample=0.7242559978998145; total time=   1.1s\n",
            "[CV] END regressor__colsample_bytree=0.9724797657899961, regressor__gamma=0.11978094533348621, regressor__learning_rate=0.08244743604561154, regressor__max_depth=6, regressor__n_estimators=515, regressor__reg_alpha=0.5926967238793935, regressor__subsample=0.7242559978998145; total time=   0.9s\n",
            "[CV] END regressor__colsample_bytree=0.9724797657899961, regressor__gamma=0.11978094533348621, regressor__learning_rate=0.08244743604561154, regressor__max_depth=6, regressor__n_estimators=515, regressor__reg_alpha=0.5926967238793935, regressor__subsample=0.7242559978998145; total time=   1.4s\n",
            "[CV] END regressor__colsample_bytree=0.9724797657899961, regressor__gamma=0.11978094533348621, regressor__learning_rate=0.08244743604561154, regressor__max_depth=6, regressor__n_estimators=515, regressor__reg_alpha=0.5926967238793935, regressor__subsample=0.7242559978998145; total time=   0.8s\n",
            "[CV] END regressor__colsample_bytree=0.9724797657899961, regressor__gamma=0.11978094533348621, regressor__learning_rate=0.08244743604561154, regressor__max_depth=6, regressor__n_estimators=515, regressor__reg_alpha=0.5926967238793935, regressor__subsample=0.7242559978998145; total time=   0.9s\n",
            "[CV] END regressor__colsample_bytree=0.8108963368184213, regressor__gamma=0.12107996913871294, regressor__learning_rate=0.41156987818994795, regressor__max_depth=7, regressor__n_estimators=297, regressor__reg_alpha=0.39882444244455306, regressor__subsample=0.9449295619658151; total time=   0.6s\n",
            "[CV] END regressor__colsample_bytree=0.8108963368184213, regressor__gamma=0.12107996913871294, regressor__learning_rate=0.41156987818994795, regressor__max_depth=7, regressor__n_estimators=297, regressor__reg_alpha=0.39882444244455306, regressor__subsample=0.9449295619658151; total time=   0.6s\n",
            "[CV] END regressor__colsample_bytree=0.8108963368184213, regressor__gamma=0.12107996913871294, regressor__learning_rate=0.41156987818994795, regressor__max_depth=7, regressor__n_estimators=297, regressor__reg_alpha=0.39882444244455306, regressor__subsample=0.9449295619658151; total time=   0.4s\n",
            "[CV] END regressor__colsample_bytree=0.8108963368184213, regressor__gamma=0.12107996913871294, regressor__learning_rate=0.41156987818994795, regressor__max_depth=7, regressor__n_estimators=297, regressor__reg_alpha=0.39882444244455306, regressor__subsample=0.9449295619658151; total time=   0.4s\n",
            "[CV] END regressor__colsample_bytree=0.8108963368184213, regressor__gamma=0.12107996913871294, regressor__learning_rate=0.41156987818994795, regressor__max_depth=7, regressor__n_estimators=297, regressor__reg_alpha=0.39882444244455306, regressor__subsample=0.9449295619658151; total time=   0.6s\n",
            "[CV] END regressor__colsample_bytree=0.9395035374953653, regressor__gamma=0.07535877198271473, regressor__learning_rate=0.26409938837035934, regressor__max_depth=7, regressor__n_estimators=502, regressor__reg_alpha=0.7111495324380178, regressor__subsample=0.9428503138419145; total time=   1.3s\n",
            "[CV] END regressor__colsample_bytree=0.9395035374953653, regressor__gamma=0.07535877198271473, regressor__learning_rate=0.26409938837035934, regressor__max_depth=7, regressor__n_estimators=502, regressor__reg_alpha=0.7111495324380178, regressor__subsample=0.9428503138419145; total time=   0.9s\n",
            "[CV] END regressor__colsample_bytree=0.9395035374953653, regressor__gamma=0.07535877198271473, regressor__learning_rate=0.26409938837035934, regressor__max_depth=7, regressor__n_estimators=502, regressor__reg_alpha=0.7111495324380178, regressor__subsample=0.9428503138419145; total time=   1.1s\n",
            "[CV] END regressor__colsample_bytree=0.9395035374953653, regressor__gamma=0.07535877198271473, regressor__learning_rate=0.26409938837035934, regressor__max_depth=7, regressor__n_estimators=502, regressor__reg_alpha=0.7111495324380178, regressor__subsample=0.9428503138419145; total time=   0.9s\n",
            "[CV] END regressor__colsample_bytree=0.9395035374953653, regressor__gamma=0.07535877198271473, regressor__learning_rate=0.26409938837035934, regressor__max_depth=7, regressor__n_estimators=502, regressor__reg_alpha=0.7111495324380178, regressor__subsample=0.9428503138419145; total time=   1.1s\n",
            "[CV] END regressor__colsample_bytree=0.8045997961875188, regressor__gamma=0.04808827554571038, regressor__learning_rate=0.480261632244802, regressor__max_depth=9, regressor__n_estimators=437, regressor__reg_alpha=0.837710105907328, regressor__subsample=0.9027070351117842; total time=   1.7s\n",
            "[CV] END regressor__colsample_bytree=0.8045997961875188, regressor__gamma=0.04808827554571038, regressor__learning_rate=0.480261632244802, regressor__max_depth=9, regressor__n_estimators=437, regressor__reg_alpha=0.837710105907328, regressor__subsample=0.9027070351117842; total time=   1.4s\n",
            "[CV] END regressor__colsample_bytree=0.8045997961875188, regressor__gamma=0.04808827554571038, regressor__learning_rate=0.480261632244802, regressor__max_depth=9, regressor__n_estimators=437, regressor__reg_alpha=0.837710105907328, regressor__subsample=0.9027070351117842; total time=   1.2s\n",
            "[CV] END regressor__colsample_bytree=0.8045997961875188, regressor__gamma=0.04808827554571038, regressor__learning_rate=0.480261632244802, regressor__max_depth=9, regressor__n_estimators=437, regressor__reg_alpha=0.837710105907328, regressor__subsample=0.9027070351117842; total time=   1.3s\n",
            "[CV] END regressor__colsample_bytree=0.8045997961875188, regressor__gamma=0.04808827554571038, regressor__learning_rate=0.480261632244802, regressor__max_depth=9, regressor__n_estimators=437, regressor__reg_alpha=0.837710105907328, regressor__subsample=0.9027070351117842; total time=   1.7s\n",
            "[CV] END regressor__colsample_bytree=0.9205648357722316, regressor__gamma=0.10453581036885684, regressor__learning_rate=0.2807239869137829, regressor__max_depth=4, regressor__n_estimators=362, regressor__reg_alpha=0.659984046034179, regressor__subsample=0.9451666600603648; total time=   0.4s\n",
            "[CV] END regressor__colsample_bytree=0.9205648357722316, regressor__gamma=0.10453581036885684, regressor__learning_rate=0.2807239869137829, regressor__max_depth=4, regressor__n_estimators=362, regressor__reg_alpha=0.659984046034179, regressor__subsample=0.9451666600603648; total time=   0.5s\n",
            "[CV] END regressor__colsample_bytree=0.9205648357722316, regressor__gamma=0.10453581036885684, regressor__learning_rate=0.2807239869137829, regressor__max_depth=4, regressor__n_estimators=362, regressor__reg_alpha=0.659984046034179, regressor__subsample=0.9451666600603648; total time=   0.3s\n",
            "[CV] END regressor__colsample_bytree=0.9205648357722316, regressor__gamma=0.10453581036885684, regressor__learning_rate=0.2807239869137829, regressor__max_depth=4, regressor__n_estimators=362, regressor__reg_alpha=0.659984046034179, regressor__subsample=0.9451666600603648; total time=   0.3s\n",
            "[CV] END regressor__colsample_bytree=0.9205648357722316, regressor__gamma=0.10453581036885684, regressor__learning_rate=0.2807239869137829, regressor__max_depth=4, regressor__n_estimators=362, regressor__reg_alpha=0.659984046034179, regressor__subsample=0.9451666600603648; total time=   0.3s\n",
            "[CV] END regressor__colsample_bytree=0.8665602434798386, regressor__gamma=0.26482528917800324, regressor__learning_rate=0.13092614545022585, regressor__max_depth=8, regressor__n_estimators=552, regressor__reg_alpha=0.9004180571633305, regressor__subsample=0.8899304371819803; total time=   1.2s\n",
            "[CV] END regressor__colsample_bytree=0.8665602434798386, regressor__gamma=0.26482528917800324, regressor__learning_rate=0.13092614545022585, regressor__max_depth=8, regressor__n_estimators=552, regressor__reg_alpha=0.9004180571633305, regressor__subsample=0.8899304371819803; total time=   1.1s\n",
            "[CV] END regressor__colsample_bytree=0.8665602434798386, regressor__gamma=0.26482528917800324, regressor__learning_rate=0.13092614545022585, regressor__max_depth=8, regressor__n_estimators=552, regressor__reg_alpha=0.9004180571633305, regressor__subsample=0.8899304371819803; total time=   1.5s\n",
            "[CV] END regressor__colsample_bytree=0.8665602434798386, regressor__gamma=0.26482528917800324, regressor__learning_rate=0.13092614545022585, regressor__max_depth=8, regressor__n_estimators=552, regressor__reg_alpha=0.9004180571633305, regressor__subsample=0.8899304371819803; total time=   1.6s\n",
            "[CV] END regressor__colsample_bytree=0.8665602434798386, regressor__gamma=0.26482528917800324, regressor__learning_rate=0.13092614545022585, regressor__max_depth=8, regressor__n_estimators=552, regressor__reg_alpha=0.9004180571633305, regressor__subsample=0.8899304371819803; total time=   1.2s\n",
            "[CV] END regressor__colsample_bytree=0.8017089373146101, regressor__gamma=0.17460478730633044, regressor__learning_rate=0.3729778394351197, regressor__max_depth=5, regressor__n_estimators=503, regressor__reg_alpha=0.8870864242651173, regressor__subsample=0.9339626637572871; total time=   0.8s\n",
            "[CV] END regressor__colsample_bytree=0.8017089373146101, regressor__gamma=0.17460478730633044, regressor__learning_rate=0.3729778394351197, regressor__max_depth=5, regressor__n_estimators=503, regressor__reg_alpha=0.8870864242651173, regressor__subsample=0.9339626637572871; total time=   0.5s\n",
            "[CV] END regressor__colsample_bytree=0.8017089373146101, regressor__gamma=0.17460478730633044, regressor__learning_rate=0.3729778394351197, regressor__max_depth=5, regressor__n_estimators=503, regressor__reg_alpha=0.8870864242651173, regressor__subsample=0.9339626637572871; total time=   0.5s\n",
            "[CV] END regressor__colsample_bytree=0.8017089373146101, regressor__gamma=0.17460478730633044, regressor__learning_rate=0.3729778394351197, regressor__max_depth=5, regressor__n_estimators=503, regressor__reg_alpha=0.8870864242651173, regressor__subsample=0.9339626637572871; total time=   0.6s\n",
            "[CV] END regressor__colsample_bytree=0.8017089373146101, regressor__gamma=0.17460478730633044, regressor__learning_rate=0.3729778394351197, regressor__max_depth=5, regressor__n_estimators=503, regressor__reg_alpha=0.8870864242651173, regressor__subsample=0.9339626637572871; total time=   0.5s\n",
            "[CV] END regressor__colsample_bytree=0.8926094938462863, regressor__gamma=0.042069982497524416, regressor__learning_rate=0.09081435704730688, regressor__max_depth=8, regressor__n_estimators=203, regressor__reg_alpha=0.6064290596595899, regressor__subsample=0.7027591154849888; total time=   0.4s\n",
            "[CV] END regressor__colsample_bytree=0.8926094938462863, regressor__gamma=0.042069982497524416, regressor__learning_rate=0.09081435704730688, regressor__max_depth=8, regressor__n_estimators=203, regressor__reg_alpha=0.6064290596595899, regressor__subsample=0.7027591154849888; total time=   0.5s\n",
            "[CV] END regressor__colsample_bytree=0.8926094938462863, regressor__gamma=0.042069982497524416, regressor__learning_rate=0.09081435704730688, regressor__max_depth=8, regressor__n_estimators=203, regressor__reg_alpha=0.6064290596595899, regressor__subsample=0.7027591154849888; total time=   0.5s\n",
            "[CV] END regressor__colsample_bytree=0.8926094938462863, regressor__gamma=0.042069982497524416, regressor__learning_rate=0.09081435704730688, regressor__max_depth=8, regressor__n_estimators=203, regressor__reg_alpha=0.6064290596595899, regressor__subsample=0.7027591154849888; total time=   0.5s\n",
            "[CV] END regressor__colsample_bytree=0.8926094938462863, regressor__gamma=0.042069982497524416, regressor__learning_rate=0.09081435704730688, regressor__max_depth=8, regressor__n_estimators=203, regressor__reg_alpha=0.6064290596595899, regressor__subsample=0.7027591154849888; total time=   0.5s\n",
            "[CV] END regressor__colsample_bytree=0.7304414628598096, regressor__gamma=0.3317508845540279, regressor__learning_rate=0.012530791923109344, regressor__max_depth=8, regressor__n_estimators=437, regressor__reg_alpha=0.4856137535862266, regressor__subsample=0.8345272428958741; total time=   1.6s\n",
            "[CV] END regressor__colsample_bytree=0.7304414628598096, regressor__gamma=0.3317508845540279, regressor__learning_rate=0.012530791923109344, regressor__max_depth=8, regressor__n_estimators=437, regressor__reg_alpha=0.4856137535862266, regressor__subsample=0.8345272428958741; total time=   1.4s\n",
            "[CV] END regressor__colsample_bytree=0.7304414628598096, regressor__gamma=0.3317508845540279, regressor__learning_rate=0.012530791923109344, regressor__max_depth=8, regressor__n_estimators=437, regressor__reg_alpha=0.4856137535862266, regressor__subsample=0.8345272428958741; total time=   1.7s\n",
            "[CV] END regressor__colsample_bytree=0.7304414628598096, regressor__gamma=0.3317508845540279, regressor__learning_rate=0.012530791923109344, regressor__max_depth=8, regressor__n_estimators=437, regressor__reg_alpha=0.4856137535862266, regressor__subsample=0.8345272428958741; total time=   1.4s\n",
            "[CV] END regressor__colsample_bytree=0.7304414628598096, regressor__gamma=0.3317508845540279, regressor__learning_rate=0.012530791923109344, regressor__max_depth=8, regressor__n_estimators=437, regressor__reg_alpha=0.4856137535862266, regressor__subsample=0.8345272428958741; total time=   1.4s\n",
            "[CV] END regressor__colsample_bytree=0.9983372387832461, regressor__gamma=0.08796262633867269, regressor__learning_rate=0.019037681807760436, regressor__max_depth=8, regressor__n_estimators=376, regressor__reg_alpha=0.1788227092213288, regressor__subsample=0.8099406353748579; total time=   1.3s\n",
            "[CV] END regressor__colsample_bytree=0.9983372387832461, regressor__gamma=0.08796262633867269, regressor__learning_rate=0.019037681807760436, regressor__max_depth=8, regressor__n_estimators=376, regressor__reg_alpha=0.1788227092213288, regressor__subsample=0.8099406353748579; total time=   1.3s\n",
            "[CV] END regressor__colsample_bytree=0.9983372387832461, regressor__gamma=0.08796262633867269, regressor__learning_rate=0.019037681807760436, regressor__max_depth=8, regressor__n_estimators=376, regressor__reg_alpha=0.1788227092213288, regressor__subsample=0.8099406353748579; total time=   2.0s\n",
            "[CV] END regressor__colsample_bytree=0.9983372387832461, regressor__gamma=0.08796262633867269, regressor__learning_rate=0.019037681807760436, regressor__max_depth=8, regressor__n_estimators=376, regressor__reg_alpha=0.1788227092213288, regressor__subsample=0.8099406353748579; total time=   1.7s\n",
            "[CV] END regressor__colsample_bytree=0.9983372387832461, regressor__gamma=0.08796262633867269, regressor__learning_rate=0.019037681807760436, regressor__max_depth=8, regressor__n_estimators=376, regressor__reg_alpha=0.1788227092213288, regressor__subsample=0.8099406353748579; total time=   1.4s\n",
            "[CV] END regressor__colsample_bytree=0.9232511569169686, regressor__gamma=0.36046996212606464, regressor__learning_rate=0.16403039592619462, regressor__max_depth=6, regressor__n_estimators=569, regressor__reg_alpha=0.26520236768172545, regressor__subsample=0.7731968930137251; total time=   1.5s\n",
            "[CV] END regressor__colsample_bytree=0.9232511569169686, regressor__gamma=0.36046996212606464, regressor__learning_rate=0.16403039592619462, regressor__max_depth=6, regressor__n_estimators=569, regressor__reg_alpha=0.26520236768172545, regressor__subsample=0.7731968930137251; total time=   0.8s\n",
            "[CV] END regressor__colsample_bytree=0.9232511569169686, regressor__gamma=0.36046996212606464, regressor__learning_rate=0.16403039592619462, regressor__max_depth=6, regressor__n_estimators=569, regressor__reg_alpha=0.26520236768172545, regressor__subsample=0.7731968930137251; total time=   1.1s\n",
            "[CV] END regressor__colsample_bytree=0.9232511569169686, regressor__gamma=0.36046996212606464, regressor__learning_rate=0.16403039592619462, regressor__max_depth=6, regressor__n_estimators=569, regressor__reg_alpha=0.26520236768172545, regressor__subsample=0.7731968930137251; total time=   0.8s\n",
            "[CV] END regressor__colsample_bytree=0.9232511569169686, regressor__gamma=0.36046996212606464, regressor__learning_rate=0.16403039592619462, regressor__max_depth=6, regressor__n_estimators=569, regressor__reg_alpha=0.26520236768172545, regressor__subsample=0.7731968930137251; total time=   0.8s\n",
            "[CV] END regressor__colsample_bytree=0.9919031664257336, regressor__gamma=0.1965488623333802, regressor__learning_rate=0.45602327758855665, regressor__max_depth=5, regressor__n_estimators=126, regressor__reg_alpha=0.7948113035416484, regressor__subsample=0.8507911279315576; total time=   0.1s\n",
            "[CV] END regressor__colsample_bytree=0.9919031664257336, regressor__gamma=0.1965488623333802, regressor__learning_rate=0.45602327758855665, regressor__max_depth=5, regressor__n_estimators=126, regressor__reg_alpha=0.7948113035416484, regressor__subsample=0.8507911279315576; total time=   0.1s\n",
            "[CV] END regressor__colsample_bytree=0.9919031664257336, regressor__gamma=0.1965488623333802, regressor__learning_rate=0.45602327758855665, regressor__max_depth=5, regressor__n_estimators=126, regressor__reg_alpha=0.7948113035416484, regressor__subsample=0.8507911279315576; total time=   0.1s\n",
            "[CV] END regressor__colsample_bytree=0.9919031664257336, regressor__gamma=0.1965488623333802, regressor__learning_rate=0.45602327758855665, regressor__max_depth=5, regressor__n_estimators=126, regressor__reg_alpha=0.7948113035416484, regressor__subsample=0.8507911279315576; total time=   0.2s\n",
            "[CV] END regressor__colsample_bytree=0.9919031664257336, regressor__gamma=0.1965488623333802, regressor__learning_rate=0.45602327758855665, regressor__max_depth=5, regressor__n_estimators=126, regressor__reg_alpha=0.7948113035416484, regressor__subsample=0.8507911279315576; total time=   0.4s\n",
            "[CV] END regressor__colsample_bytree=0.8730711653879077, regressor__gamma=0.24625884690943195, regressor__learning_rate=0.10762149389902224, regressor__max_depth=7, regressor__n_estimators=615, regressor__reg_alpha=0.02431596643145384, regressor__subsample=0.8936416887721503; total time=   1.2s\n",
            "[CV] END regressor__colsample_bytree=0.8730711653879077, regressor__gamma=0.24625884690943195, regressor__learning_rate=0.10762149389902224, regressor__max_depth=7, regressor__n_estimators=615, regressor__reg_alpha=0.02431596643145384, regressor__subsample=0.8936416887721503; total time=   1.1s\n",
            "[CV] END regressor__colsample_bytree=0.8730711653879077, regressor__gamma=0.24625884690943195, regressor__learning_rate=0.10762149389902224, regressor__max_depth=7, regressor__n_estimators=615, regressor__reg_alpha=0.02431596643145384, regressor__subsample=0.8936416887721503; total time=   1.2s\n",
            "[CV] END regressor__colsample_bytree=0.8730711653879077, regressor__gamma=0.24625884690943195, regressor__learning_rate=0.10762149389902224, regressor__max_depth=7, regressor__n_estimators=615, regressor__reg_alpha=0.02431596643145384, regressor__subsample=0.8936416887721503; total time=   0.9s\n",
            "[CV] END regressor__colsample_bytree=0.8730711653879077, regressor__gamma=0.24625884690943195, regressor__learning_rate=0.10762149389902224, regressor__max_depth=7, regressor__n_estimators=615, regressor__reg_alpha=0.02431596643145384, regressor__subsample=0.8936416887721503; total time=   1.3s\n",
            "[CV] END regressor__colsample_bytree=0.7531332038221147, regressor__gamma=0.47022929217645715, regressor__learning_rate=0.4869642885012937, regressor__max_depth=7, regressor__n_estimators=617, regressor__reg_alpha=0.3701587002554444, regressor__subsample=0.7046369849586602; total time=   1.8s\n",
            "[CV] END regressor__colsample_bytree=0.7531332038221147, regressor__gamma=0.47022929217645715, regressor__learning_rate=0.4869642885012937, regressor__max_depth=7, regressor__n_estimators=617, regressor__reg_alpha=0.3701587002554444, regressor__subsample=0.7046369849586602; total time=   1.3s\n",
            "[CV] END regressor__colsample_bytree=0.7531332038221147, regressor__gamma=0.47022929217645715, regressor__learning_rate=0.4869642885012937, regressor__max_depth=7, regressor__n_estimators=617, regressor__reg_alpha=0.3701587002554444, regressor__subsample=0.7046369849586602; total time=   1.4s\n",
            "[CV] END regressor__colsample_bytree=0.7531332038221147, regressor__gamma=0.47022929217645715, regressor__learning_rate=0.4869642885012937, regressor__max_depth=7, regressor__n_estimators=617, regressor__reg_alpha=0.3701587002554444, regressor__subsample=0.7046369849586602; total time=   1.3s\n",
            "[CV] END regressor__colsample_bytree=0.7531332038221147, regressor__gamma=0.47022929217645715, regressor__learning_rate=0.4869642885012937, regressor__max_depth=7, regressor__n_estimators=617, regressor__reg_alpha=0.3701587002554444, regressor__subsample=0.7046369849586602; total time=   1.1s\n",
            "[CV] END regressor__colsample_bytree=0.9784955687763175, regressor__gamma=0.21409207415865716, regressor__learning_rate=0.4933274095218348, regressor__max_depth=5, regressor__n_estimators=215, regressor__reg_alpha=0.2944488920695857, regressor__subsample=0.8155293185805775; total time=   0.2s\n",
            "[CV] END regressor__colsample_bytree=0.9784955687763175, regressor__gamma=0.21409207415865716, regressor__learning_rate=0.4933274095218348, regressor__max_depth=5, regressor__n_estimators=215, regressor__reg_alpha=0.2944488920695857, regressor__subsample=0.8155293185805775; total time=   0.3s\n",
            "[CV] END regressor__colsample_bytree=0.9784955687763175, regressor__gamma=0.21409207415865716, regressor__learning_rate=0.4933274095218348, regressor__max_depth=5, regressor__n_estimators=215, regressor__reg_alpha=0.2944488920695857, regressor__subsample=0.8155293185805775; total time=   0.2s\n",
            "[CV] END regressor__colsample_bytree=0.9784955687763175, regressor__gamma=0.21409207415865716, regressor__learning_rate=0.4933274095218348, regressor__max_depth=5, regressor__n_estimators=215, regressor__reg_alpha=0.2944488920695857, regressor__subsample=0.8155293185805775; total time=   0.2s\n",
            "[CV] END regressor__colsample_bytree=0.9784955687763175, regressor__gamma=0.21409207415865716, regressor__learning_rate=0.4933274095218348, regressor__max_depth=5, regressor__n_estimators=215, regressor__reg_alpha=0.2944488920695857, regressor__subsample=0.8155293185805775; total time=   0.2s\n",
            "[CV] END regressor__colsample_bytree=0.955341001455057, regressor__gamma=0.15846100257813883, regressor__learning_rate=0.09474637334304624, regressor__max_depth=3, regressor__n_estimators=665, regressor__reg_alpha=0.696029796674973, regressor__subsample=0.8710183510268095; total time=   0.5s\n",
            "[CV] END regressor__colsample_bytree=0.955341001455057, regressor__gamma=0.15846100257813883, regressor__learning_rate=0.09474637334304624, regressor__max_depth=3, regressor__n_estimators=665, regressor__reg_alpha=0.696029796674973, regressor__subsample=0.8710183510268095; total time=   0.5s\n",
            "[CV] END regressor__colsample_bytree=0.955341001455057, regressor__gamma=0.15846100257813883, regressor__learning_rate=0.09474637334304624, regressor__max_depth=3, regressor__n_estimators=665, regressor__reg_alpha=0.696029796674973, regressor__subsample=0.8710183510268095; total time=   0.5s\n",
            "[CV] END regressor__colsample_bytree=0.955341001455057, regressor__gamma=0.15846100257813883, regressor__learning_rate=0.09474637334304624, regressor__max_depth=3, regressor__n_estimators=665, regressor__reg_alpha=0.696029796674973, regressor__subsample=0.8710183510268095; total time=   0.5s\n",
            "[CV] END regressor__colsample_bytree=0.955341001455057, regressor__gamma=0.15846100257813883, regressor__learning_rate=0.09474637334304624, regressor__max_depth=3, regressor__n_estimators=665, regressor__reg_alpha=0.696029796674973, regressor__subsample=0.8710183510268095; total time=   0.5s\n",
            "[CV] END regressor__colsample_bytree=0.7291529481312305, regressor__gamma=0.30750361334958487, regressor__learning_rate=0.5050269250521316, regressor__max_depth=4, regressor__n_estimators=254, regressor__reg_alpha=0.29529058841893874, regressor__subsample=0.7967652292715801; total time=   0.2s\n",
            "[CV] END regressor__colsample_bytree=0.7291529481312305, regressor__gamma=0.30750361334958487, regressor__learning_rate=0.5050269250521316, regressor__max_depth=4, regressor__n_estimators=254, regressor__reg_alpha=0.29529058841893874, regressor__subsample=0.7967652292715801; total time=   0.2s\n",
            "[CV] END regressor__colsample_bytree=0.7291529481312305, regressor__gamma=0.30750361334958487, regressor__learning_rate=0.5050269250521316, regressor__max_depth=4, regressor__n_estimators=254, regressor__reg_alpha=0.29529058841893874, regressor__subsample=0.7967652292715801; total time=   0.2s\n",
            "[CV] END regressor__colsample_bytree=0.7291529481312305, regressor__gamma=0.30750361334958487, regressor__learning_rate=0.5050269250521316, regressor__max_depth=4, regressor__n_estimators=254, regressor__reg_alpha=0.29529058841893874, regressor__subsample=0.7967652292715801; total time=   0.2s\n",
            "[CV] END regressor__colsample_bytree=0.7291529481312305, regressor__gamma=0.30750361334958487, regressor__learning_rate=0.5050269250521316, regressor__max_depth=4, regressor__n_estimators=254, regressor__reg_alpha=0.29529058841893874, regressor__subsample=0.7967652292715801; total time=   0.3s\n",
            "[CV] END regressor__colsample_bytree=0.9546009384774023, regressor__gamma=0.06831066572101441, regressor__learning_rate=0.3644554984550593, regressor__max_depth=9, regressor__n_estimators=576, regressor__reg_alpha=0.2965101436477985, regressor__subsample=0.8259342569338829; total time=   1.6s\n",
            "[CV] END regressor__colsample_bytree=0.9546009384774023, regressor__gamma=0.06831066572101441, regressor__learning_rate=0.3644554984550593, regressor__max_depth=9, regressor__n_estimators=576, regressor__reg_alpha=0.2965101436477985, regressor__subsample=0.8259342569338829; total time=   1.5s\n",
            "[CV] END regressor__colsample_bytree=0.9546009384774023, regressor__gamma=0.06831066572101441, regressor__learning_rate=0.3644554984550593, regressor__max_depth=9, regressor__n_estimators=576, regressor__reg_alpha=0.2965101436477985, regressor__subsample=0.8259342569338829; total time=   1.7s\n",
            "[CV] END regressor__colsample_bytree=0.9546009384774023, regressor__gamma=0.06831066572101441, regressor__learning_rate=0.3644554984550593, regressor__max_depth=9, regressor__n_estimators=576, regressor__reg_alpha=0.2965101436477985, regressor__subsample=0.8259342569338829; total time=   1.8s\n",
            "[CV] END regressor__colsample_bytree=0.9546009384774023, regressor__gamma=0.06831066572101441, regressor__learning_rate=0.3644554984550593, regressor__max_depth=9, regressor__n_estimators=576, regressor__reg_alpha=0.2965101436477985, regressor__subsample=0.8259342569338829; total time=   1.7s\n",
            "[CV] END regressor__colsample_bytree=0.7768620830783374, regressor__gamma=0.30575685543284026, regressor__learning_rate=0.05079709020012018, regressor__max_depth=9, regressor__n_estimators=135, regressor__reg_alpha=0.7982951789667752, regressor__subsample=0.8949891792333295; total time=   0.5s\n",
            "[CV] END regressor__colsample_bytree=0.7768620830783374, regressor__gamma=0.30575685543284026, regressor__learning_rate=0.05079709020012018, regressor__max_depth=9, regressor__n_estimators=135, regressor__reg_alpha=0.7982951789667752, regressor__subsample=0.8949891792333295; total time=   0.5s\n",
            "[CV] END regressor__colsample_bytree=0.7768620830783374, regressor__gamma=0.30575685543284026, regressor__learning_rate=0.05079709020012018, regressor__max_depth=9, regressor__n_estimators=135, regressor__reg_alpha=0.7982951789667752, regressor__subsample=0.8949891792333295; total time=   0.5s\n",
            "[CV] END regressor__colsample_bytree=0.7768620830783374, regressor__gamma=0.30575685543284026, regressor__learning_rate=0.05079709020012018, regressor__max_depth=9, regressor__n_estimators=135, regressor__reg_alpha=0.7982951789667752, regressor__subsample=0.8949891792333295; total time=   0.5s\n",
            "[CV] END regressor__colsample_bytree=0.7768620830783374, regressor__gamma=0.30575685543284026, regressor__learning_rate=0.05079709020012018, regressor__max_depth=9, regressor__n_estimators=135, regressor__reg_alpha=0.7982951789667752, regressor__subsample=0.8949891792333295; total time=   0.5s\n",
            "[CV] END regressor__colsample_bytree=0.910590063177311, regressor__gamma=0.3978963347180505, regressor__learning_rate=0.45500267090878316, regressor__max_depth=9, regressor__n_estimators=242, regressor__reg_alpha=0.375582952639944, regressor__subsample=0.7281945819522606; total time=   0.7s\n",
            "[CV] END regressor__colsample_bytree=0.910590063177311, regressor__gamma=0.3978963347180505, regressor__learning_rate=0.45500267090878316, regressor__max_depth=9, regressor__n_estimators=242, regressor__reg_alpha=0.375582952639944, regressor__subsample=0.7281945819522606; total time=   0.6s\n",
            "[CV] END regressor__colsample_bytree=0.910590063177311, regressor__gamma=0.3978963347180505, regressor__learning_rate=0.45500267090878316, regressor__max_depth=9, regressor__n_estimators=242, regressor__reg_alpha=0.375582952639944, regressor__subsample=0.7281945819522606; total time=   0.7s\n",
            "[CV] END regressor__colsample_bytree=0.910590063177311, regressor__gamma=0.3978963347180505, regressor__learning_rate=0.45500267090878316, regressor__max_depth=9, regressor__n_estimators=242, regressor__reg_alpha=0.375582952639944, regressor__subsample=0.7281945819522606; total time=   0.7s\n",
            "[CV] END regressor__colsample_bytree=0.910590063177311, regressor__gamma=0.3978963347180505, regressor__learning_rate=0.45500267090878316, regressor__max_depth=9, regressor__n_estimators=242, regressor__reg_alpha=0.375582952639944, regressor__subsample=0.7281945819522606; total time=   0.7s\n",
            "[CV] END regressor__colsample_bytree=0.8734840422988521, regressor__gamma=0.017971136898371043, regressor__learning_rate=0.2427990090662301, regressor__max_depth=9, regressor__n_estimators=289, regressor__reg_alpha=0.2865412521282844, regressor__subsample=0.8772499781707032; total time=   0.7s\n",
            "[CV] END regressor__colsample_bytree=0.8734840422988521, regressor__gamma=0.017971136898371043, regressor__learning_rate=0.2427990090662301, regressor__max_depth=9, regressor__n_estimators=289, regressor__reg_alpha=0.2865412521282844, regressor__subsample=0.8772499781707032; total time=   0.9s\n",
            "[CV] END regressor__colsample_bytree=0.8734840422988521, regressor__gamma=0.017971136898371043, regressor__learning_rate=0.2427990090662301, regressor__max_depth=9, regressor__n_estimators=289, regressor__reg_alpha=0.2865412521282844, regressor__subsample=0.8772499781707032; total time=   0.8s\n",
            "[CV] END regressor__colsample_bytree=0.8734840422988521, regressor__gamma=0.017971136898371043, regressor__learning_rate=0.2427990090662301, regressor__max_depth=9, regressor__n_estimators=289, regressor__reg_alpha=0.2865412521282844, regressor__subsample=0.8772499781707032; total time=   0.7s\n",
            "[CV] END regressor__colsample_bytree=0.8734840422988521, regressor__gamma=0.017971136898371043, regressor__learning_rate=0.2427990090662301, regressor__max_depth=9, regressor__n_estimators=289, regressor__reg_alpha=0.2865412521282844, regressor__subsample=0.8772499781707032; total time=   0.8s\n",
            "[CV] END regressor__colsample_bytree=0.7091500749817148, regressor__gamma=0.01867409437460721, regressor__learning_rate=0.42130028032982914, regressor__max_depth=8, regressor__n_estimators=543, regressor__reg_alpha=0.3266512417960409, regressor__subsample=0.9483607011362766; total time=   1.1s\n",
            "[CV] END regressor__colsample_bytree=0.7091500749817148, regressor__gamma=0.01867409437460721, regressor__learning_rate=0.42130028032982914, regressor__max_depth=8, regressor__n_estimators=543, regressor__reg_alpha=0.3266512417960409, regressor__subsample=0.9483607011362766; total time=   1.2s\n",
            "[CV] END regressor__colsample_bytree=0.7091500749817148, regressor__gamma=0.01867409437460721, regressor__learning_rate=0.42130028032982914, regressor__max_depth=8, regressor__n_estimators=543, regressor__reg_alpha=0.3266512417960409, regressor__subsample=0.9483607011362766; total time=   1.3s\n",
            "[CV] END regressor__colsample_bytree=0.7091500749817148, regressor__gamma=0.01867409437460721, regressor__learning_rate=0.42130028032982914, regressor__max_depth=8, regressor__n_estimators=543, regressor__reg_alpha=0.3266512417960409, regressor__subsample=0.9483607011362766; total time=   1.3s\n",
            "[CV] END regressor__colsample_bytree=0.7091500749817148, regressor__gamma=0.01867409437460721, regressor__learning_rate=0.42130028032982914, regressor__max_depth=8, regressor__n_estimators=543, regressor__reg_alpha=0.3266512417960409, regressor__subsample=0.9483607011362766; total time=   1.1s\n",
            "[CV] END regressor__colsample_bytree=0.7814628747459225, regressor__gamma=0.4826259151953849, regressor__learning_rate=0.23863258080686428, regressor__max_depth=8, regressor__n_estimators=449, regressor__reg_alpha=0.5406351216101065, regressor__subsample=0.8912289704494619; total time=   0.9s\n",
            "[CV] END regressor__colsample_bytree=0.7814628747459225, regressor__gamma=0.4826259151953849, regressor__learning_rate=0.23863258080686428, regressor__max_depth=8, regressor__n_estimators=449, regressor__reg_alpha=0.5406351216101065, regressor__subsample=0.8912289704494619; total time=   0.9s\n",
            "[CV] END regressor__colsample_bytree=0.7814628747459225, regressor__gamma=0.4826259151953849, regressor__learning_rate=0.23863258080686428, regressor__max_depth=8, regressor__n_estimators=449, regressor__reg_alpha=0.5406351216101065, regressor__subsample=0.8912289704494619; total time=   1.0s\n",
            "[CV] END regressor__colsample_bytree=0.7814628747459225, regressor__gamma=0.4826259151953849, regressor__learning_rate=0.23863258080686428, regressor__max_depth=8, regressor__n_estimators=449, regressor__reg_alpha=0.5406351216101065, regressor__subsample=0.8912289704494619; total time=   0.9s\n",
            "[CV] END regressor__colsample_bytree=0.7814628747459225, regressor__gamma=0.4826259151953849, regressor__learning_rate=0.23863258080686428, regressor__max_depth=8, regressor__n_estimators=449, regressor__reg_alpha=0.5406351216101065, regressor__subsample=0.8912289704494619; total time=   1.0s\n",
            "[CV] END regressor__colsample_bytree=0.9178274001167984, regressor__gamma=0.4879260397312673, regressor__learning_rate=0.26815017415059766, regressor__max_depth=8, regressor__n_estimators=219, regressor__reg_alpha=0.2708322512620742, regressor__subsample=0.8316914262116908; total time=   0.5s\n",
            "[CV] END regressor__colsample_bytree=0.9178274001167984, regressor__gamma=0.4879260397312673, regressor__learning_rate=0.26815017415059766, regressor__max_depth=8, regressor__n_estimators=219, regressor__reg_alpha=0.2708322512620742, regressor__subsample=0.8316914262116908; total time=   0.4s\n",
            "[CV] END regressor__colsample_bytree=0.9178274001167984, regressor__gamma=0.4879260397312673, regressor__learning_rate=0.26815017415059766, regressor__max_depth=8, regressor__n_estimators=219, regressor__reg_alpha=0.2708322512620742, regressor__subsample=0.8316914262116908; total time=   0.4s\n",
            "[CV] END regressor__colsample_bytree=0.9178274001167984, regressor__gamma=0.4879260397312673, regressor__learning_rate=0.26815017415059766, regressor__max_depth=8, regressor__n_estimators=219, regressor__reg_alpha=0.2708322512620742, regressor__subsample=0.8316914262116908; total time=   0.4s\n",
            "[CV] END regressor__colsample_bytree=0.9178274001167984, regressor__gamma=0.4879260397312673, regressor__learning_rate=0.26815017415059766, regressor__max_depth=8, regressor__n_estimators=219, regressor__reg_alpha=0.2708322512620742, regressor__subsample=0.8316914262116908; total time=   0.5s\n",
            "[CV] END regressor__colsample_bytree=0.7235369144026798, regressor__gamma=0.012675371707728755, regressor__learning_rate=0.49132420733896254, regressor__max_depth=9, regressor__n_estimators=226, regressor__reg_alpha=0.695974206093698, regressor__subsample=0.8226858833242809; total time=   0.8s\n",
            "[CV] END regressor__colsample_bytree=0.7235369144026798, regressor__gamma=0.012675371707728755, regressor__learning_rate=0.49132420733896254, regressor__max_depth=9, regressor__n_estimators=226, regressor__reg_alpha=0.695974206093698, regressor__subsample=0.8226858833242809; total time=   0.7s\n",
            "[CV] END regressor__colsample_bytree=0.7235369144026798, regressor__gamma=0.012675371707728755, regressor__learning_rate=0.49132420733896254, regressor__max_depth=9, regressor__n_estimators=226, regressor__reg_alpha=0.695974206093698, regressor__subsample=0.8226858833242809; total time=   0.7s\n",
            "[CV] END regressor__colsample_bytree=0.7235369144026798, regressor__gamma=0.012675371707728755, regressor__learning_rate=0.49132420733896254, regressor__max_depth=9, regressor__n_estimators=226, regressor__reg_alpha=0.695974206093698, regressor__subsample=0.8226858833242809; total time=   0.6s\n",
            "[CV] END regressor__colsample_bytree=0.7235369144026798, regressor__gamma=0.012675371707728755, regressor__learning_rate=0.49132420733896254, regressor__max_depth=9, regressor__n_estimators=226, regressor__reg_alpha=0.695974206093698, regressor__subsample=0.8226858833242809; total time=   0.6s\n",
            "[CV] END regressor__colsample_bytree=0.7519882960212537, regressor__gamma=0.07821852133554302, regressor__learning_rate=0.13512144908229767, regressor__max_depth=8, regressor__n_estimators=217, regressor__reg_alpha=0.7145959227000623, regressor__subsample=0.8980592130153193; total time=   0.6s\n",
            "[CV] END regressor__colsample_bytree=0.7519882960212537, regressor__gamma=0.07821852133554302, regressor__learning_rate=0.13512144908229767, regressor__max_depth=8, regressor__n_estimators=217, regressor__reg_alpha=0.7145959227000623, regressor__subsample=0.8980592130153193; total time=   0.4s\n",
            "[CV] END regressor__colsample_bytree=0.7519882960212537, regressor__gamma=0.07821852133554302, regressor__learning_rate=0.13512144908229767, regressor__max_depth=8, regressor__n_estimators=217, regressor__reg_alpha=0.7145959227000623, regressor__subsample=0.8980592130153193; total time=   0.5s\n",
            "[CV] END regressor__colsample_bytree=0.7519882960212537, regressor__gamma=0.07821852133554302, regressor__learning_rate=0.13512144908229767, regressor__max_depth=8, regressor__n_estimators=217, regressor__reg_alpha=0.7145959227000623, regressor__subsample=0.8980592130153193; total time=   0.4s\n",
            "[CV] END regressor__colsample_bytree=0.7519882960212537, regressor__gamma=0.07821852133554302, regressor__learning_rate=0.13512144908229767, regressor__max_depth=8, regressor__n_estimators=217, regressor__reg_alpha=0.7145959227000623, regressor__subsample=0.8980592130153193; total time=   0.4s\n",
            "\n",
            "--- Hasil Tuning XGBoost Selesai ---\n",
            "Parameter terbaik ditemukan: {'regressor__colsample_bytree': np.float64(0.7637017332034828), 'regressor__gamma': np.float64(0.09091248360355031), 'regressor__learning_rate': np.float64(0.1017022549267169), 'regressor__max_depth': 6, 'regressor__n_estimators': 413, 'regressor__reg_alpha': np.float64(0.5247564316322378), 'regressor__subsample': np.float64(0.8295835055926347)}\n",
            "Skor R² Cross-Validation terbaik: 0.872\n",
            "\n",
            "--- Performa Model XGBoost Hasil Tuning di Data Test ---\n",
            "Mean Absolute Error (MAE): 329.26 (Juta Rupiah)\n",
            "Root Mean Squared Error (RMSE): 576.06 (Juta Rupiah)\n",
            "R-squared (R²): 0.885\n",
            "\n",
            "Mencatat hasil tuning XGBoost ke MLflow...\n"
          ]
        },
        {
          "name": "stderr",
          "output_type": "stream",
          "text": [
            "2025/08/17 09:35:06 WARNING mlflow.models.model: `artifact_path` is deprecated. Please use `name` instead.\n",
            "2025/08/17 09:35:15 WARNING mlflow.models.model: Model logged without a signature and input example. Please set `input_example` parameter when logging the model to auto infer the model signature.\n"
          ]
        },
        {
          "name": "stdout",
          "output_type": "stream",
          "text": [
            "\n",
            "Model XGBoost hasil tuning berhasil dicatat di MLflow!\n"
          ]
        }
      ],
      "source": [
        "from sklearn.model_selection import RandomizedSearchCV\n",
        "from scipy.stats import uniform, randint\n",
        "from xgboost import XGBRegressor\n",
        "\n",
        "mlflow.set_tracking_uri(\"file:../mlruns\")\n",
        "# Siapkan model XGBoost dengan beberapa parameter dasar\n",
        "model_to_tune_xgb = XGBRegressor(\n",
        "    objective='reg:squarederror',\n",
        "    eval_metric='rmse',\n",
        "    random_state=42,\n",
        "    n_jobs=-1 # Gunakan semua core CPU\n",
        ")\n",
        "\n",
        "# Buat pipeline baru khusus untuk tuning XGBoost\n",
        "tuning_pipeline_xgb = Pipeline(steps=[\n",
        "    ('preprocessor', preprocessor),\n",
        "    ('regressor', model_to_tune_xgb)\n",
        "])\n",
        "\n",
        "# 1. Tentukan rentang hyperparameter yang ingin diuji untuk XGBoost\n",
        "param_dist_xgb = {\n",
        "    'regressor__n_estimators': randint(100, 700),       # Jumlah pohon\n",
        "    'regressor__max_depth': randint(3, 10),             # Kedalaman maksimum pohon\n",
        "    'regressor__learning_rate': uniform(0.01, 0.5),     # Laju pembelajaran\n",
        "    'regressor__subsample': uniform(0.7, 0.3),          # Persentase baris data yang digunakan per pohon\n",
        "    'regressor__colsample_bytree': uniform(0.7, 0.3),   # Persentase fitur yang digunakan per pohon\n",
        "    'regressor__gamma': uniform(0, 0.5),                # Parameter untuk mengontrol kompleksitas\n",
        "    'regressor__reg_alpha': uniform(0, 1)               # L1 Regularization\n",
        "}\n",
        "\n",
        "# 2. Setup RandomizedSearchCV\n",
        "random_search_xgb = RandomizedSearchCV(\n",
        "    estimator=tuning_pipeline_xgb,\n",
        "    param_distributions=param_dist_xgb,\n",
        "    n_iter=50,\n",
        "    cv=5,\n",
        "    verbose=2,\n",
        "    random_state=42,\n",
        "    scoring='r2'\n",
        ")\n",
        "\n",
        "print(\"Memulai Hyperparameter Tuning untuk XGBoost...\")\n",
        "# 3. Jalankan proses tuning\n",
        "random_search_xgb.fit(X_train, y_train)\n",
        "\n",
        "# 4. Tampilkan hasil terbaik\n",
        "print(\"\\n--- Hasil Tuning XGBoost Selesai ---\")\n",
        "print(f\"Parameter terbaik ditemukan: {random_search_xgb.best_params_}\")\n",
        "print(f\"Skor R² Cross-Validation terbaik: {random_search_xgb.best_score_:.3f}\")\n",
        "\n",
        "# 5. Dapatkan model terbaik dan evaluasi di data test\n",
        "best_tuned_model_xgb = random_search_xgb.best_estimator_\n",
        "y_pred_tuned_xgb = best_tuned_model_xgb.predict(X_test)\n",
        "\n",
        "mae_tuned_xgb = mean_absolute_error(y_test, y_pred_tuned_xgb)\n",
        "rmse_tuned_xgb = np.sqrt(mean_squared_error(y_test, y_pred_tuned_xgb))\n",
        "r2_tuned_xgb = r2_score(y_test, y_pred_tuned_xgb)\n",
        "\n",
        "print(\"\\n--- Performa Model XGBoost Hasil Tuning di Data Test ---\")\n",
        "print(f\"Mean Absolute Error (MAE): {mae_tuned_xgb:.2f} (Juta Rupiah)\")\n",
        "print(f\"Root Mean Squared Error (RMSE): {rmse_tuned_xgb:.2f} (Juta Rupiah)\")\n",
        "print(f\"R-squared (R²): {r2_tuned_xgb:.3f}\")\n",
        "\n",
        "# Log hasil tuning XGBoost ke MLflow\n",
        "with mlflow.start_run(run_name=\"Tuned XGBoost\"):\n",
        "    print(\"\\nMencatat hasil tuning XGBoost ke MLflow...\")\n",
        "    mlflow.log_params(random_search_xgb.best_params_)\n",
        "    mlflow.log_metric(\"test_mae\", mae_tuned_xgb)\n",
        "    mlflow.log_metric(\"test_rmse\", rmse_tuned_xgb)\n",
        "    mlflow.log_metric(\"test_r2_score\", r2_tuned_xgb)\n",
        "    mlflow.sklearn.log_model(best_tuned_model_xgb, \"tuned_xgb_model\")\n",
        "\n",
        "print(\"\\nModel XGBoost hasil tuning berhasil dicatat di MLflow!\")"
      ]
    },
    {
      "cell_type": "code",
      "execution_count": 37,
      "metadata": {},
      "outputs": [
        {
          "name": "stderr",
          "output_type": "stream",
          "text": [
            "Successfully registered model 'Propify-Price-Predictor'.\n"
          ]
        },
        {
          "ename": "MlflowException",
          "evalue": "Run '33db2af376014b06a597606926a83aec' not found",
          "output_type": "error",
          "traceback": [
            "\u001b[31m---------------------------------------------------------------------------\u001b[39m",
            "\u001b[31mMlflowException\u001b[39m                           Traceback (most recent call last)",
            "\u001b[36mCell\u001b[39m\u001b[36m \u001b[39m\u001b[32mIn[37]\u001b[39m\u001b[32m, line 12\u001b[39m\n\u001b[32m      9\u001b[39m model_uri = \u001b[33mf\u001b[39m\u001b[33m\"\u001b[39m\u001b[33mruns:/\u001b[39m\u001b[38;5;132;01m{\u001b[39;00mrun_id\u001b[38;5;132;01m}\u001b[39;00m\u001b[33m/model\u001b[39m\u001b[33m\"\u001b[39m\n\u001b[32m     11\u001b[39m \u001b[38;5;66;03m# Daftarkan model ke MLflow Model Registry\u001b[39;00m\n\u001b[32m---> \u001b[39m\u001b[32m12\u001b[39m registered_model = \u001b[43mmlflow\u001b[49m\u001b[43m.\u001b[49m\u001b[43mregister_model\u001b[49m\u001b[43m(\u001b[49m\n\u001b[32m     13\u001b[39m \u001b[43m    \u001b[49m\u001b[43mmodel_uri\u001b[49m\u001b[43m=\u001b[49m\u001b[43mmodel_uri\u001b[49m\u001b[43m,\u001b[49m\n\u001b[32m     14\u001b[39m \u001b[43m    \u001b[49m\u001b[43mname\u001b[49m\u001b[43m=\u001b[49m\u001b[43mmodel_name\u001b[49m\n\u001b[32m     15\u001b[39m \u001b[43m)\u001b[49m\n\u001b[32m     17\u001b[39m \u001b[38;5;28mprint\u001b[39m(\u001b[33mf\u001b[39m\u001b[33m\"\u001b[39m\u001b[33mModel \u001b[39m\u001b[33m'\u001b[39m\u001b[38;5;132;01m{\u001b[39;00mmodel_name\u001b[38;5;132;01m}\u001b[39;00m\u001b[33m'\u001b[39m\u001b[33m berhasil didaftarkan.\u001b[39m\u001b[33m\"\u001b[39m)\n\u001b[32m     18\u001b[39m \u001b[38;5;28mprint\u001b[39m(\u001b[33mf\u001b[39m\u001b[33m\"\u001b[39m\u001b[33mVersi baru: \u001b[39m\u001b[38;5;132;01m{\u001b[39;00mregistered_model.version\u001b[38;5;132;01m}\u001b[39;00m\u001b[33m\"\u001b[39m)\n",
            "\u001b[36mFile \u001b[39m\u001b[32md:\\LIFE\\Courses\\BOOTCAMP\\MACHINE LEARNING ENGINEER\\MLFM-end_to_end_project\\propify\\venv\\Lib\\site-packages\\mlflow\\tracking\\_model_registry\\fluent.py:129\u001b[39m, in \u001b[36mregister_model\u001b[39m\u001b[34m(model_uri, name, await_registration_for, tags, env_pack)\u001b[39m\n\u001b[32m     61\u001b[39m \u001b[38;5;28;01mdef\u001b[39;00m\u001b[38;5;250m \u001b[39m\u001b[34mregister_model\u001b[39m(\n\u001b[32m     62\u001b[39m     model_uri,\n\u001b[32m     63\u001b[39m     name,\n\u001b[32m   (...)\u001b[39m\u001b[32m     67\u001b[39m     env_pack: Optional[EnvPackType] = \u001b[38;5;28;01mNone\u001b[39;00m,\n\u001b[32m     68\u001b[39m ) -> ModelVersion:\n\u001b[32m     69\u001b[39m \u001b[38;5;250m    \u001b[39m\u001b[33;03m\"\"\"Create a new model version in model registry for the model files specified by ``model_uri``.\u001b[39;00m\n\u001b[32m     70\u001b[39m \n\u001b[32m     71\u001b[39m \u001b[33;03m    Note that this method assumes the model registry backend URI is the same as that of the\u001b[39;00m\n\u001b[32m   (...)\u001b[39m\u001b[32m    127\u001b[39m \u001b[33;03m        Version: 1\u001b[39;00m\n\u001b[32m    128\u001b[39m \u001b[33;03m    \"\"\"\u001b[39;00m\n\u001b[32m--> \u001b[39m\u001b[32m129\u001b[39m     \u001b[38;5;28;01mreturn\u001b[39;00m \u001b[43m_register_model\u001b[49m\u001b[43m(\u001b[49m\n\u001b[32m    130\u001b[39m \u001b[43m        \u001b[49m\u001b[43mmodel_uri\u001b[49m\u001b[43m=\u001b[49m\u001b[43mmodel_uri\u001b[49m\u001b[43m,\u001b[49m\n\u001b[32m    131\u001b[39m \u001b[43m        \u001b[49m\u001b[43mname\u001b[49m\u001b[43m=\u001b[49m\u001b[43mname\u001b[49m\u001b[43m,\u001b[49m\n\u001b[32m    132\u001b[39m \u001b[43m        \u001b[49m\u001b[43mawait_registration_for\u001b[49m\u001b[43m=\u001b[49m\u001b[43mawait_registration_for\u001b[49m\u001b[43m,\u001b[49m\n\u001b[32m    133\u001b[39m \u001b[43m        \u001b[49m\u001b[43mtags\u001b[49m\u001b[43m=\u001b[49m\u001b[43mtags\u001b[49m\u001b[43m,\u001b[49m\n\u001b[32m    134\u001b[39m \u001b[43m        \u001b[49m\u001b[43menv_pack\u001b[49m\u001b[43m=\u001b[49m\u001b[43menv_pack\u001b[49m\u001b[43m,\u001b[49m\n\u001b[32m    135\u001b[39m \u001b[43m    \u001b[49m\u001b[43m)\u001b[49m\n",
            "\u001b[36mFile \u001b[39m\u001b[32md:\\LIFE\\Courses\\BOOTCAMP\\MACHINE LEARNING ENGINEER\\MLFM-end_to_end_project\\propify\\venv\\Lib\\site-packages\\mlflow\\tracking\\_model_registry\\fluent.py:168\u001b[39m, in \u001b[36m_register_model\u001b[39m\u001b[34m(model_uri, name, await_registration_for, tags, local_model_path, env_pack)\u001b[39m\n\u001b[32m    165\u001b[39m \u001b[38;5;28;01mif\u001b[39;00m RunsArtifactRepository.is_runs_uri(model_uri):\n\u001b[32m    166\u001b[39m     \u001b[38;5;66;03m# If the uri is of the form runs:/...\u001b[39;00m\n\u001b[32m    167\u001b[39m     (run_id, artifact_path) = RunsArtifactRepository.parse_runs_uri(model_uri)\n\u001b[32m--> \u001b[39m\u001b[32m168\u001b[39m     runs_artifact_repo = \u001b[43mRunsArtifactRepository\u001b[49m\u001b[43m(\u001b[49m\u001b[43mmodel_uri\u001b[49m\u001b[43m)\u001b[49m\n\u001b[32m    169\u001b[39m     \u001b[38;5;66;03m# List artifacts in `<run_artifact_root>/<artifact_path>` to see if the run has artifacts.\u001b[39;00m\n\u001b[32m    170\u001b[39m     \u001b[38;5;66;03m# If so use the run's artifact location as source.\u001b[39;00m\n\u001b[32m    171\u001b[39m     artifacts = runs_artifact_repo._list_run_artifacts()\n",
            "\u001b[36mFile \u001b[39m\u001b[32md:\\LIFE\\Courses\\BOOTCAMP\\MACHINE LEARNING ENGINEER\\MLFM-end_to_end_project\\propify\\venv\\Lib\\site-packages\\mlflow\\store\\artifact\\runs_artifact_repo.py:36\u001b[39m, in \u001b[36mRunsArtifactRepository.__init__\u001b[39m\u001b[34m(self, artifact_uri, tracking_uri)\u001b[39m\n\u001b[32m     33\u001b[39m \u001b[38;5;28;01mfrom\u001b[39;00m\u001b[38;5;250m \u001b[39m\u001b[34;01mmlflow\u001b[39;00m\u001b[34;01m.\u001b[39;00m\u001b[34;01mstore\u001b[39;00m\u001b[34;01m.\u001b[39;00m\u001b[34;01martifact\u001b[39;00m\u001b[34;01m.\u001b[39;00m\u001b[34;01martifact_repository_registry\u001b[39;00m\u001b[38;5;250m \u001b[39m\u001b[38;5;28;01mimport\u001b[39;00m get_artifact_repository\n\u001b[32m     35\u001b[39m \u001b[38;5;28msuper\u001b[39m().\u001b[34m__init__\u001b[39m(artifact_uri, tracking_uri)\n\u001b[32m---> \u001b[39m\u001b[32m36\u001b[39m uri = \u001b[43mRunsArtifactRepository\u001b[49m\u001b[43m.\u001b[49m\u001b[43mget_underlying_uri\u001b[49m\u001b[43m(\u001b[49m\u001b[43martifact_uri\u001b[49m\u001b[43m,\u001b[49m\u001b[43m \u001b[49m\u001b[43mtracking_uri\u001b[49m\u001b[43m)\u001b[49m\n\u001b[32m     37\u001b[39m \u001b[38;5;28mself\u001b[39m.repo = get_artifact_repository(uri, tracking_uri=\u001b[38;5;28mself\u001b[39m.tracking_uri)\n",
            "\u001b[36mFile \u001b[39m\u001b[32md:\\LIFE\\Courses\\BOOTCAMP\\MACHINE LEARNING ENGINEER\\MLFM-end_to_end_project\\propify\\venv\\Lib\\site-packages\\mlflow\\store\\artifact\\runs_artifact_repo.py:49\u001b[39m, in \u001b[36mRunsArtifactRepository.get_underlying_uri\u001b[39m\u001b[34m(runs_uri, tracking_uri)\u001b[39m\n\u001b[32m     47\u001b[39m (run_id, artifact_path) = RunsArtifactRepository.parse_runs_uri(runs_uri)\n\u001b[32m     48\u001b[39m databricks_profile_uri = get_databricks_profile_uri_from_artifact_uri(runs_uri)\n\u001b[32m---> \u001b[39m\u001b[32m49\u001b[39m uri = \u001b[43mget_artifact_uri\u001b[49m\u001b[43m(\u001b[49m\n\u001b[32m     50\u001b[39m \u001b[43m    \u001b[49m\u001b[43mrun_id\u001b[49m\u001b[43m=\u001b[49m\u001b[43mrun_id\u001b[49m\u001b[43m,\u001b[49m\n\u001b[32m     51\u001b[39m \u001b[43m    \u001b[49m\u001b[43martifact_path\u001b[49m\u001b[43m=\u001b[49m\u001b[43martifact_path\u001b[49m\u001b[43m,\u001b[49m\n\u001b[32m     52\u001b[39m \u001b[43m    \u001b[49m\u001b[43mtracking_uri\u001b[49m\u001b[43m=\u001b[49m\u001b[43mdatabricks_profile_uri\u001b[49m\u001b[43m \u001b[49m\u001b[38;5;129;43;01mor\u001b[39;49;00m\u001b[43m \u001b[49m\u001b[43mtracking_uri\u001b[49m\u001b[43m,\u001b[49m\n\u001b[32m     53\u001b[39m \u001b[43m\u001b[49m\u001b[43m)\u001b[49m\n\u001b[32m     54\u001b[39m \u001b[38;5;28;01massert\u001b[39;00m \u001b[38;5;129;01mnot\u001b[39;00m RunsArtifactRepository.is_runs_uri(uri)  \u001b[38;5;66;03m# avoid an infinite loop\u001b[39;00m\n\u001b[32m     55\u001b[39m \u001b[38;5;28;01mreturn\u001b[39;00m add_databricks_profile_info_to_artifact_uri(\n\u001b[32m     56\u001b[39m     artifact_uri=uri, databricks_profile_uri=databricks_profile_uri \u001b[38;5;129;01mor\u001b[39;00m tracking_uri\n\u001b[32m     57\u001b[39m )\n",
            "\u001b[36mFile \u001b[39m\u001b[32md:\\LIFE\\Courses\\BOOTCAMP\\MACHINE LEARNING ENGINEER\\MLFM-end_to_end_project\\propify\\venv\\Lib\\site-packages\\mlflow\\tracking\\artifact_utils.py:53\u001b[39m, in \u001b[36mget_artifact_uri\u001b[39m\u001b[34m(run_id, artifact_path, tracking_uri)\u001b[39m\n\u001b[32m     47\u001b[39m     \u001b[38;5;28;01mraise\u001b[39;00m MlflowException(\n\u001b[32m     48\u001b[39m         message=\u001b[33m\"\u001b[39m\u001b[33mA run_id must be specified in order to obtain an artifact uri!\u001b[39m\u001b[33m\"\u001b[39m,\n\u001b[32m     49\u001b[39m         error_code=INVALID_PARAMETER_VALUE,\n\u001b[32m     50\u001b[39m     )\n\u001b[32m     52\u001b[39m store = _get_store(tracking_uri)\n\u001b[32m---> \u001b[39m\u001b[32m53\u001b[39m run = \u001b[43mstore\u001b[49m\u001b[43m.\u001b[49m\u001b[43mget_run\u001b[49m\u001b[43m(\u001b[49m\u001b[43mrun_id\u001b[49m\u001b[43m)\u001b[49m\n\u001b[32m     54\u001b[39m \u001b[38;5;66;03m# Maybe move this method to RunsArtifactRepository so the circular dependency is clearer.\u001b[39;00m\n\u001b[32m     55\u001b[39m \u001b[38;5;28;01massert\u001b[39;00m urllib.parse.urlparse(run.info.artifact_uri).scheme != \u001b[33m\"\u001b[39m\u001b[33mruns\u001b[39m\u001b[33m\"\u001b[39m  \u001b[38;5;66;03m# avoid an infinite loop\u001b[39;00m\n",
            "\u001b[36mFile \u001b[39m\u001b[32md:\\LIFE\\Courses\\BOOTCAMP\\MACHINE LEARNING ENGINEER\\MLFM-end_to_end_project\\propify\\venv\\Lib\\site-packages\\mlflow\\store\\tracking\\file_store.py:741\u001b[39m, in \u001b[36mFileStore.get_run\u001b[39m\u001b[34m(self, run_id)\u001b[39m\n\u001b[32m    737\u001b[39m \u001b[38;5;250m\u001b[39m\u001b[33;03m\"\"\"\u001b[39;00m\n\u001b[32m    738\u001b[39m \u001b[33;03mNote: Will get both active and deleted runs.\u001b[39;00m\n\u001b[32m    739\u001b[39m \u001b[33;03m\"\"\"\u001b[39;00m\n\u001b[32m    740\u001b[39m _validate_run_id(run_id)\n\u001b[32m--> \u001b[39m\u001b[32m741\u001b[39m run_info = \u001b[38;5;28;43mself\u001b[39;49m\u001b[43m.\u001b[49m\u001b[43m_get_run_info\u001b[49m\u001b[43m(\u001b[49m\u001b[43mrun_id\u001b[49m\u001b[43m)\u001b[49m\n\u001b[32m    742\u001b[39m \u001b[38;5;28;01mif\u001b[39;00m run_info \u001b[38;5;129;01mis\u001b[39;00m \u001b[38;5;28;01mNone\u001b[39;00m:\n\u001b[32m    743\u001b[39m     \u001b[38;5;28;01mraise\u001b[39;00m MlflowException(\n\u001b[32m    744\u001b[39m         \u001b[33mf\u001b[39m\u001b[33m\"\u001b[39m\u001b[33mRun \u001b[39m\u001b[33m'\u001b[39m\u001b[38;5;132;01m{\u001b[39;00mrun_id\u001b[38;5;132;01m}\u001b[39;00m\u001b[33m'\u001b[39m\u001b[33m metadata is in invalid state.\u001b[39m\u001b[33m\"\u001b[39m,\n\u001b[32m    745\u001b[39m         databricks_pb2.INVALID_STATE,\n\u001b[32m    746\u001b[39m     )\n",
            "\u001b[36mFile \u001b[39m\u001b[32md:\\LIFE\\Courses\\BOOTCAMP\\MACHINE LEARNING ENGINEER\\MLFM-end_to_end_project\\propify\\venv\\Lib\\site-packages\\mlflow\\store\\tracking\\file_store.py:767\u001b[39m, in \u001b[36mFileStore._get_run_info\u001b[39m\u001b[34m(self, run_uuid)\u001b[39m\n\u001b[32m    765\u001b[39m exp_id, run_dir = \u001b[38;5;28mself\u001b[39m._find_run_root(run_uuid)\n\u001b[32m    766\u001b[39m \u001b[38;5;28;01mif\u001b[39;00m run_dir \u001b[38;5;129;01mis\u001b[39;00m \u001b[38;5;28;01mNone\u001b[39;00m:\n\u001b[32m--> \u001b[39m\u001b[32m767\u001b[39m     \u001b[38;5;28;01mraise\u001b[39;00m MlflowException(\n\u001b[32m    768\u001b[39m         \u001b[33mf\u001b[39m\u001b[33m\"\u001b[39m\u001b[33mRun \u001b[39m\u001b[33m'\u001b[39m\u001b[38;5;132;01m{\u001b[39;00mrun_uuid\u001b[38;5;132;01m}\u001b[39;00m\u001b[33m'\u001b[39m\u001b[33m not found\u001b[39m\u001b[33m\"\u001b[39m, databricks_pb2.RESOURCE_DOES_NOT_EXIST\n\u001b[32m    769\u001b[39m     )\n\u001b[32m    770\u001b[39m run_info = \u001b[38;5;28mself\u001b[39m._get_run_info_from_dir(run_dir)\n\u001b[32m    771\u001b[39m \u001b[38;5;28;01mif\u001b[39;00m run_info.experiment_id != exp_id:\n",
            "\u001b[31mMlflowException\u001b[39m: Run '33db2af376014b06a597606926a83aec' not found"
          ]
        }
      ],
      "source": [
        "import mlflow\n",
        "\n",
        "# Pastikan tracking URI sudah benar\n",
        "mlflow.set_tracking_uri(\"file:../mlruns\")\n",
        "\n",
        "# model XGBoost \n",
        "run_id = \"33db2af376014b06a597606926a83aec\" \n",
        "model_name = \"Propify-Price-Predictor\"\n",
        "model_uri = f\"runs:/{run_id}/model\"\n",
        "\n",
        "# Daftarkan model ke MLflow Model Registry\n",
        "registered_model = mlflow.register_model(\n",
        "    model_uri=model_uri,\n",
        "    name=model_name\n",
        ")\n",
        "\n",
        "print(f\"Model '{model_name}' berhasil didaftarkan.\")\n",
        "print(f\"Versi baru: {registered_model.version}\")"
      ]
    },
    {
      "cell_type": "code",
      "execution_count": null,
      "metadata": {},
      "outputs": [
        {
          "name": "stdout",
          "output_type": "stream",
          "text": [
            "Model telah disimpan ke file: model.joblib\n"
          ]
        }
      ],
      "source": [
        "import joblib\n",
        "\n",
        "# 'best_tuned_model_xgb' adalah variabel yang berisi model terbaik dari langkah tuning Anda\n",
        "# Pastikan variabel ini ada atau muat ulang model terbaik Anda jika perlu.\n",
        "file_model = 'model.joblib'\n",
        "joblib.dump(best_tuned_model_xgb, file_model)\n",
        "\n",
        "print(f\"Model telah disimpan ke file: {file_model}\")"
      ]
    }
  ],
  "metadata": {
    "colab": {
      "provenance": []
    },
    "kernelspec": {
      "display_name": "venv",
      "language": "python",
      "name": "python3"
    },
    "language_info": {
      "codemirror_mode": {
        "name": "ipython",
        "version": 3
      },
      "file_extension": ".py",
      "mimetype": "text/x-python",
      "name": "python",
      "nbconvert_exporter": "python",
      "pygments_lexer": "ipython3",
      "version": "3.11.0"
    }
  },
  "nbformat": 4,
  "nbformat_minor": 0
}
